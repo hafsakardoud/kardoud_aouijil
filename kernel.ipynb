{
  "cells": [
    {
      "metadata": {
        "_uuid": "8f2839f25d086af736a60e9eeb907d3b93b6e0e5",
        "_cell_guid": "b1076dfc-b9ad-4769-8c92-a6c4dae69d19",
        "trusted": true
      },
      "cell_type": "code",
      "source": "# This Python 3 environment comes with many helpful analytics libraries installed\n# It is defined by the kaggle/python docker image: https://github.com/kaggle/docker-python\n# For example, here's several helpful packages to load in \n\nimport numpy as np # linear algebra\nimport pandas as pd # data processing, CSV file I/O (e.g. pd.read_csv)\n\n# Input data files are available in the \"../input/\" directory.\n# For example, running this (by clicking run or pressing Shift+Enter) will list the files in the input directory\n\nimport os\nprint(os.listdir(\"../input\"))\n\n# Any results you write to the current directory are saved as output.",
      "execution_count": null,
      "outputs": []
    },
    {
      "metadata": {
        "trusted": true,
        "_uuid": "e52926c27093f84b392624624992bf3281f1128a"
      },
      "cell_type": "code",
      "source": "import tensorflow",
      "execution_count": null,
      "outputs": []
    },
    {
      "metadata": {
        "trusted": true,
        "_uuid": "5014b2714150301155985f8e039725dfcc4333c5"
      },
      "cell_type": "code",
      "source": "import tflearn",
      "execution_count": null,
      "outputs": []
    },
    {
      "metadata": {
        "trusted": true,
        "_uuid": "e4439eb8601dacba5804f3fe3bdd8a68d394d366"
      },
      "cell_type": "code",
      "source": "from sklearn import preprocessing",
      "execution_count": null,
      "outputs": []
    },
    {
      "metadata": {
        "trusted": true,
        "_uuid": "ad9b0e30d8916dfad8f47b372c05fa8c06e37b78"
      },
      "cell_type": "code",
      "source": "#df_global = pd.read_csv('../input/trainmfcc/trainmfcc.csv')\nfrom tflearn.data_utils import load_csv\ndf_global, labels = load_csv('../input/trainmfcc2/trainmfcc2.csv', target_column=234,\n                        categorical_labels=True, n_classes=30)",
      "execution_count": null,
      "outputs": []
    },
    {
      "metadata": {
        "trusted": true,
        "_uuid": "7d5f3b9aee24dae95ce62e0d9ea14ad5a74ce69e"
      },
      "cell_type": "code",
      "source": "test = pd.read_csv('../input/testmfcc/testmfcc.csv')",
      "execution_count": null,
      "outputs": []
    },
    {
      "metadata": {
        "trusted": true,
        "_uuid": "fefb68edd93b33726c649e5418a5ec8fccd09c72"
      },
      "cell_type": "code",
      "source": "test4= test.values.tolist()\n",
      "execution_count": null,
      "outputs": []
    },
    {
      "metadata": {
        "trusted": true,
        "_uuid": "06cbda667b3a1fbff9c4212ed8b0b6906282c0f6"
      },
      "cell_type": "code",
      "source": "test5 = pd.read_csv('../input/testcsv/test.csv')\ntest6= test5.values.tolist()",
      "execution_count": null,
      "outputs": []
    },
    {
      "metadata": {
        "trusted": true,
        "_uuid": "a3bc32011acbd250e5434360dc3efd85aca62ee5"
      },
      "cell_type": "code",
      "source": "# Build neural network\nnet = tflearn.input_data(shape=[None, 234])\nnet = tflearn.fully_connected(net, 32)\nnet = tflearn.fully_connected(net, 32)\nnet = tflearn.fully_connected(net, 30, activation='softmax')\nnet = tflearn.regression(net)",
      "execution_count": null,
      "outputs": []
    },
    {
      "metadata": {
        "trusted": true,
        "_uuid": "3ce0af673b86f1e67a0af2c082dbd9fd3218c687"
      },
      "cell_type": "code",
      "source": "\n# Define model\nmodel = tflearn.DNN(net)\n# Start training (apply gradient descent algorithm)\nmodel.fit(df_global, labels, n_epoch=35,  show_metric=True)\n",
      "execution_count": null,
      "outputs": []
    },
    {
      "metadata": {
        "trusted": true,
        "_uuid": "c7f280cce4efb0109273c046a6c9667bdf013b62"
      },
      "cell_type": "code",
      "source": "rslt=[]\nfor i in range(0,len(test4)):\n    pred = model.predict([test4[i]])\n    id_pred = np.argmax(pred)\n    rslt.append(id_pred)",
      "execution_count": null,
      "outputs": []
    },
    {
      "metadata": {
        "trusted": true,
        "_uuid": "8b76e26e4f8fcc2f3e00b78559a054b4448c2bfe"
      },
      "cell_type": "code",
      "source": "sub = pd.DataFrame({'audio':test6,'word':rslt})",
      "execution_count": null,
      "outputs": []
    },
    {
      "metadata": {
        "trusted": true,
        "_uuid": "8fcffc2f164e07ba84a61aed94b5c5e2ed4b6456"
      },
      "cell_type": "code",
      "source": "sub.to_csv('sub.csv', index = False)",
      "execution_count": null,
      "outputs": []
    },
    {
      "metadata": {
        "trusted": true,
        "_uuid": "3ae66f1d20edd3998508b3d7213407be32514926"
      },
      "cell_type": "code",
      "source": "sub\n",
      "execution_count": null,
      "outputs": []
    }
  ],
  "metadata": {
    "kernelspec": {
      "display_name": "Python 3",
      "language": "python",
      "name": "python3"
    },
    "language_info": {
      "name": "python",
      "version": "3.6.6",
      "mimetype": "text/x-python",
      "codemirror_mode": {
        "name": "ipython",
        "version": 3
      },
      "pygments_lexer": "ipython3",
      "nbconvert_exporter": "python",
      "file_extension": ".py"
    }
  },
  "nbformat": 4,
  "nbformat_minor": 1
}