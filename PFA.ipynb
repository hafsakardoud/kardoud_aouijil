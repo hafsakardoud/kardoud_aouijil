{
 "cells": [
  {
   "cell_type": "markdown",
   "metadata": {},
   "source": [
    "# work on the audio DataFrame"
   ]
  },
  {
   "cell_type": "code",
   "execution_count": 1,
   "metadata": {
    "collapsed": true
   },
   "outputs": [],
   "source": [
    "import numpy as np\n",
    "import os\n",
    "import pandas as pd\n",
    "import librosa\n",
    "import scipy\n",
    "from scipy.stats import skew"
   ]
  },
  {
   "cell_type": "code",
   "execution_count": 2,
   "metadata": {
    "collapsed": true
   },
   "outputs": [],
   "source": [
    "from sklearn import preprocessing"
   ]
  },
  {
   "cell_type": "code",
   "execution_count": 3,
   "metadata": {
    "collapsed": true
   },
   "outputs": [],
   "source": [
    "train = pd.read_csv('trainaudio.csv')"
   ]
  },
  {
   "cell_type": "code",
   "execution_count": 4,
   "metadata": {},
   "outputs": [
    {
     "data": {
      "text/html": [
       "<div>\n",
       "<style>\n",
       "    .dataframe thead tr:only-child th {\n",
       "        text-align: right;\n",
       "    }\n",
       "\n",
       "    .dataframe thead th {\n",
       "        text-align: left;\n",
       "    }\n",
       "\n",
       "    .dataframe tbody tr th {\n",
       "        vertical-align: top;\n",
       "    }\n",
       "</style>\n",
       "<table border=\"1\" class=\"dataframe\">\n",
       "  <thead>\n",
       "    <tr style=\"text-align: right;\">\n",
       "      <th></th>\n",
       "      <th>file</th>\n",
       "      <th>label</th>\n",
       "    </tr>\n",
       "  </thead>\n",
       "  <tbody>\n",
       "    <tr>\n",
       "      <th>0</th>\n",
       "      <td>00176480_nohash_0.wav</td>\n",
       "      <td>bed</td>\n",
       "    </tr>\n",
       "    <tr>\n",
       "      <th>1</th>\n",
       "      <td>004ae714_nohash_0.wav</td>\n",
       "      <td>bed</td>\n",
       "    </tr>\n",
       "    <tr>\n",
       "      <th>2</th>\n",
       "      <td>004ae714_nohash_1.wav</td>\n",
       "      <td>bed</td>\n",
       "    </tr>\n",
       "    <tr>\n",
       "      <th>3</th>\n",
       "      <td>00f0204f_nohash_0.wav</td>\n",
       "      <td>bed</td>\n",
       "    </tr>\n",
       "    <tr>\n",
       "      <th>4</th>\n",
       "      <td>00f0204f_nohash_1.wav</td>\n",
       "      <td>bed</td>\n",
       "    </tr>\n",
       "  </tbody>\n",
       "</table>\n",
       "</div>"
      ],
      "text/plain": [
       "                    file label\n",
       "0  00176480_nohash_0.wav   bed\n",
       "1  004ae714_nohash_0.wav   bed\n",
       "2  004ae714_nohash_1.wav   bed\n",
       "3  00f0204f_nohash_0.wav   bed\n",
       "4  00f0204f_nohash_1.wav   bed"
      ]
     },
     "execution_count": 4,
     "metadata": {},
     "output_type": "execute_result"
    }
   ],
   "source": [
    "train.head()"
   ]
  },
  {
   "cell_type": "code",
   "execution_count": 5,
   "metadata": {
    "collapsed": true
   },
   "outputs": [],
   "source": [
    "def get_mfcc(name, path):\n",
    "    y, sr = librosa.load(path + name, sr = 22050)\n",
    "    \n",
    "    # Let's make and display a mel-scaled power (energy-squared) spectrogram\n",
    "    S = librosa.feature.melspectrogram(y, sr=sr, n_mels=128)\n",
    "    \n",
    "    # Convert to log scale (dB). We'll use the peak power (max) as reference.\n",
    "    log_S = librosa.power_to_db(S, ref=np.max)\n",
    "    \n",
    "    # Next, we'll extract the top 13 Mel-frequency cepstral coefficients (MFCCs)\n",
    "    mfcc = librosa.feature.mfcc(S=log_S, n_mfcc=13)\n",
    "\n",
    "# Let's pad on the first and second deltas while we're at it\n",
    "    delta_mfcc  = librosa.feature.delta(mfcc)\n",
    "    delta2_mfcc = librosa.feature.delta(mfcc, order=2)\n",
    "    \n",
    "    M = np.vstack([mfcc, delta_mfcc, delta2_mfcc])\n",
    "    \n",
    "    return M\n",
    "\n",
    "\n",
    "def transform_mfcc(features):\n",
    "    return pd.Series(np.hstack((np.mean(features, axis=1),\n",
    "                                np.std(features, axis=1),\n",
    "                                skew(features, axis = 1),\n",
    "                                np.max(features, axis = 1),\n",
    "                                np.median(features, axis = 1), \n",
    "                                np.min(features, axis = 1))))"
   ]
  },
  {
   "cell_type": "markdown",
   "metadata": {},
   "source": [
    "# convert the word 'bed' audios to mfcc DataFrame"
   ]
  },
  {
   "cell_type": "code",
   "execution_count": 12,
   "metadata": {
    "collapsed": true
   },
   "outputs": [],
   "source": [
    "subsetDataFrame = train[train['label'] == 'bed']"
   ]
  },
  {
   "cell_type": "code",
   "execution_count": 13,
   "metadata": {},
   "outputs": [
    {
     "data": {
      "text/html": [
       "<div>\n",
       "<style>\n",
       "    .dataframe thead tr:only-child th {\n",
       "        text-align: right;\n",
       "    }\n",
       "\n",
       "    .dataframe thead th {\n",
       "        text-align: left;\n",
       "    }\n",
       "\n",
       "    .dataframe tbody tr th {\n",
       "        vertical-align: top;\n",
       "    }\n",
       "</style>\n",
       "<table border=\"1\" class=\"dataframe\">\n",
       "  <thead>\n",
       "    <tr style=\"text-align: right;\">\n",
       "      <th></th>\n",
       "      <th>file</th>\n",
       "      <th>label</th>\n",
       "    </tr>\n",
       "  </thead>\n",
       "  <tbody>\n",
       "    <tr>\n",
       "      <th>0</th>\n",
       "      <td>00176480_nohash_0.wav</td>\n",
       "      <td>bed</td>\n",
       "    </tr>\n",
       "    <tr>\n",
       "      <th>1</th>\n",
       "      <td>004ae714_nohash_0.wav</td>\n",
       "      <td>bed</td>\n",
       "    </tr>\n",
       "    <tr>\n",
       "      <th>2</th>\n",
       "      <td>004ae714_nohash_1.wav</td>\n",
       "      <td>bed</td>\n",
       "    </tr>\n",
       "    <tr>\n",
       "      <th>3</th>\n",
       "      <td>00f0204f_nohash_0.wav</td>\n",
       "      <td>bed</td>\n",
       "    </tr>\n",
       "    <tr>\n",
       "      <th>4</th>\n",
       "      <td>00f0204f_nohash_1.wav</td>\n",
       "      <td>bed</td>\n",
       "    </tr>\n",
       "    <tr>\n",
       "      <th>5</th>\n",
       "      <td>012c8314_nohash_0.wav</td>\n",
       "      <td>bed</td>\n",
       "    </tr>\n",
       "    <tr>\n",
       "      <th>6</th>\n",
       "      <td>012c8314_nohash_1.wav</td>\n",
       "      <td>bed</td>\n",
       "    </tr>\n",
       "    <tr>\n",
       "      <th>7</th>\n",
       "      <td>0132a06d_nohash_0.wav</td>\n",
       "      <td>bed</td>\n",
       "    </tr>\n",
       "    <tr>\n",
       "      <th>8</th>\n",
       "      <td>0135f3f2_nohash_0.wav</td>\n",
       "      <td>bed</td>\n",
       "    </tr>\n",
       "    <tr>\n",
       "      <th>9</th>\n",
       "      <td>0137b3f4_nohash_0.wav</td>\n",
       "      <td>bed</td>\n",
       "    </tr>\n",
       "    <tr>\n",
       "      <th>10</th>\n",
       "      <td>014f9f65_nohash_0.wav</td>\n",
       "      <td>bed</td>\n",
       "    </tr>\n",
       "    <tr>\n",
       "      <th>11</th>\n",
       "      <td>01648c51_nohash_0.wav</td>\n",
       "      <td>bed</td>\n",
       "    </tr>\n",
       "    <tr>\n",
       "      <th>12</th>\n",
       "      <td>01648c51_nohash_1.wav</td>\n",
       "      <td>bed</td>\n",
       "    </tr>\n",
       "    <tr>\n",
       "      <th>13</th>\n",
       "      <td>016e2c6d_nohash_0.wav</td>\n",
       "      <td>bed</td>\n",
       "    </tr>\n",
       "    <tr>\n",
       "      <th>14</th>\n",
       "      <td>01b4757a_nohash_0.wav</td>\n",
       "      <td>bed</td>\n",
       "    </tr>\n",
       "    <tr>\n",
       "      <th>15</th>\n",
       "      <td>01b4757a_nohash_1.wav</td>\n",
       "      <td>bed</td>\n",
       "    </tr>\n",
       "    <tr>\n",
       "      <th>16</th>\n",
       "      <td>01bcfc0c_nohash_0.wav</td>\n",
       "      <td>bed</td>\n",
       "    </tr>\n",
       "    <tr>\n",
       "      <th>17</th>\n",
       "      <td>0227998e_nohash_0.wav</td>\n",
       "      <td>bed</td>\n",
       "    </tr>\n",
       "    <tr>\n",
       "      <th>18</th>\n",
       "      <td>026290a7_nohash_0.wav</td>\n",
       "      <td>bed</td>\n",
       "    </tr>\n",
       "    <tr>\n",
       "      <th>19</th>\n",
       "      <td>02746d24_nohash_0.wav</td>\n",
       "      <td>bed</td>\n",
       "    </tr>\n",
       "    <tr>\n",
       "      <th>20</th>\n",
       "      <td>035de8fe_nohash_0.wav</td>\n",
       "      <td>bed</td>\n",
       "    </tr>\n",
       "    <tr>\n",
       "      <th>21</th>\n",
       "      <td>0362539c_nohash_0.wav</td>\n",
       "      <td>bed</td>\n",
       "    </tr>\n",
       "    <tr>\n",
       "      <th>22</th>\n",
       "      <td>0362539c_nohash_1.wav</td>\n",
       "      <td>bed</td>\n",
       "    </tr>\n",
       "    <tr>\n",
       "      <th>23</th>\n",
       "      <td>037c445a_nohash_0.wav</td>\n",
       "      <td>bed</td>\n",
       "    </tr>\n",
       "    <tr>\n",
       "      <th>24</th>\n",
       "      <td>0397ecda_nohash_0.wav</td>\n",
       "      <td>bed</td>\n",
       "    </tr>\n",
       "    <tr>\n",
       "      <th>25</th>\n",
       "      <td>03c96658_nohash_0.wav</td>\n",
       "      <td>bed</td>\n",
       "    </tr>\n",
       "    <tr>\n",
       "      <th>26</th>\n",
       "      <td>042186b8_nohash_0.wav</td>\n",
       "      <td>bed</td>\n",
       "    </tr>\n",
       "    <tr>\n",
       "      <th>27</th>\n",
       "      <td>042ea76c_nohash_0.wav</td>\n",
       "      <td>bed</td>\n",
       "    </tr>\n",
       "    <tr>\n",
       "      <th>28</th>\n",
       "      <td>0447d7c1_nohash_0.wav</td>\n",
       "      <td>bed</td>\n",
       "    </tr>\n",
       "    <tr>\n",
       "      <th>29</th>\n",
       "      <td>0474c92a_nohash_0.wav</td>\n",
       "      <td>bed</td>\n",
       "    </tr>\n",
       "    <tr>\n",
       "      <th>...</th>\n",
       "      <td>...</td>\n",
       "      <td>...</td>\n",
       "    </tr>\n",
       "    <tr>\n",
       "      <th>1683</th>\n",
       "      <td>fa7895de_nohash_0.wav</td>\n",
       "      <td>bed</td>\n",
       "    </tr>\n",
       "    <tr>\n",
       "      <th>1684</th>\n",
       "      <td>fac7deca_nohash_0.wav</td>\n",
       "      <td>bed</td>\n",
       "    </tr>\n",
       "    <tr>\n",
       "      <th>1685</th>\n",
       "      <td>fac7deca_nohash_1.wav</td>\n",
       "      <td>bed</td>\n",
       "    </tr>\n",
       "    <tr>\n",
       "      <th>1686</th>\n",
       "      <td>facd97c0_nohash_0.wav</td>\n",
       "      <td>bed</td>\n",
       "    </tr>\n",
       "    <tr>\n",
       "      <th>1687</th>\n",
       "      <td>fad7a69a_nohash_0.wav</td>\n",
       "      <td>bed</td>\n",
       "    </tr>\n",
       "    <tr>\n",
       "      <th>1688</th>\n",
       "      <td>fafe8101_nohash_0.wav</td>\n",
       "      <td>bed</td>\n",
       "    </tr>\n",
       "    <tr>\n",
       "      <th>1689</th>\n",
       "      <td>fb01a182_nohash_0.wav</td>\n",
       "      <td>bed</td>\n",
       "    </tr>\n",
       "    <tr>\n",
       "      <th>1690</th>\n",
       "      <td>fb24c826_nohash_0.wav</td>\n",
       "      <td>bed</td>\n",
       "    </tr>\n",
       "    <tr>\n",
       "      <th>1691</th>\n",
       "      <td>fb2f3242_nohash_0.wav</td>\n",
       "      <td>bed</td>\n",
       "    </tr>\n",
       "    <tr>\n",
       "      <th>1692</th>\n",
       "      <td>fb7c9b3b_nohash_0.wav</td>\n",
       "      <td>bed</td>\n",
       "    </tr>\n",
       "    <tr>\n",
       "      <th>1693</th>\n",
       "      <td>fb7c9b3b_nohash_1.wav</td>\n",
       "      <td>bed</td>\n",
       "    </tr>\n",
       "    <tr>\n",
       "      <th>1694</th>\n",
       "      <td>fb7c9b3b_nohash_2.wav</td>\n",
       "      <td>bed</td>\n",
       "    </tr>\n",
       "    <tr>\n",
       "      <th>1695</th>\n",
       "      <td>fbe51750_nohash_0.wav</td>\n",
       "      <td>bed</td>\n",
       "    </tr>\n",
       "    <tr>\n",
       "      <th>1696</th>\n",
       "      <td>fbe51750_nohash_1.wav</td>\n",
       "      <td>bed</td>\n",
       "    </tr>\n",
       "    <tr>\n",
       "      <th>1697</th>\n",
       "      <td>fbf3dd31_nohash_0.wav</td>\n",
       "      <td>bed</td>\n",
       "    </tr>\n",
       "    <tr>\n",
       "      <th>1698</th>\n",
       "      <td>fbf3dd31_nohash_1.wav</td>\n",
       "      <td>bed</td>\n",
       "    </tr>\n",
       "    <tr>\n",
       "      <th>1699</th>\n",
       "      <td>fc94edb0_nohash_0.wav</td>\n",
       "      <td>bed</td>\n",
       "    </tr>\n",
       "    <tr>\n",
       "      <th>1700</th>\n",
       "      <td>fc94edb0_nohash_1.wav</td>\n",
       "      <td>bed</td>\n",
       "    </tr>\n",
       "    <tr>\n",
       "      <th>1701</th>\n",
       "      <td>fce65496_nohash_0.wav</td>\n",
       "      <td>bed</td>\n",
       "    </tr>\n",
       "    <tr>\n",
       "      <th>1702</th>\n",
       "      <td>fce96bac_nohash_0.wav</td>\n",
       "      <td>bed</td>\n",
       "    </tr>\n",
       "    <tr>\n",
       "      <th>1703</th>\n",
       "      <td>fd32732a_nohash_0.wav</td>\n",
       "      <td>bed</td>\n",
       "    </tr>\n",
       "    <tr>\n",
       "      <th>1704</th>\n",
       "      <td>fd395b74_nohash_0.wav</td>\n",
       "      <td>bed</td>\n",
       "    </tr>\n",
       "    <tr>\n",
       "      <th>1705</th>\n",
       "      <td>fde2dee7_nohash_0.wav</td>\n",
       "      <td>bed</td>\n",
       "    </tr>\n",
       "    <tr>\n",
       "      <th>1706</th>\n",
       "      <td>fe1916ba_nohash_0.wav</td>\n",
       "      <td>bed</td>\n",
       "    </tr>\n",
       "    <tr>\n",
       "      <th>1707</th>\n",
       "      <td>fe291fa9_nohash_0.wav</td>\n",
       "      <td>bed</td>\n",
       "    </tr>\n",
       "    <tr>\n",
       "      <th>1708</th>\n",
       "      <td>ffb86d3c_nohash_0.wav</td>\n",
       "      <td>bed</td>\n",
       "    </tr>\n",
       "    <tr>\n",
       "      <th>1709</th>\n",
       "      <td>ffbb695d_nohash_0.wav</td>\n",
       "      <td>bed</td>\n",
       "    </tr>\n",
       "    <tr>\n",
       "      <th>1710</th>\n",
       "      <td>ffd2ba2f_nohash_0.wav</td>\n",
       "      <td>bed</td>\n",
       "    </tr>\n",
       "    <tr>\n",
       "      <th>1711</th>\n",
       "      <td>fffcabd1_nohash_0.wav</td>\n",
       "      <td>bed</td>\n",
       "    </tr>\n",
       "    <tr>\n",
       "      <th>1712</th>\n",
       "      <td>fffcabd1_nohash_1.wav</td>\n",
       "      <td>bed</td>\n",
       "    </tr>\n",
       "  </tbody>\n",
       "</table>\n",
       "<p>1713 rows × 2 columns</p>\n",
       "</div>"
      ],
      "text/plain": [
       "                       file label\n",
       "0     00176480_nohash_0.wav   bed\n",
       "1     004ae714_nohash_0.wav   bed\n",
       "2     004ae714_nohash_1.wav   bed\n",
       "3     00f0204f_nohash_0.wav   bed\n",
       "4     00f0204f_nohash_1.wav   bed\n",
       "5     012c8314_nohash_0.wav   bed\n",
       "6     012c8314_nohash_1.wav   bed\n",
       "7     0132a06d_nohash_0.wav   bed\n",
       "8     0135f3f2_nohash_0.wav   bed\n",
       "9     0137b3f4_nohash_0.wav   bed\n",
       "10    014f9f65_nohash_0.wav   bed\n",
       "11    01648c51_nohash_0.wav   bed\n",
       "12    01648c51_nohash_1.wav   bed\n",
       "13    016e2c6d_nohash_0.wav   bed\n",
       "14    01b4757a_nohash_0.wav   bed\n",
       "15    01b4757a_nohash_1.wav   bed\n",
       "16    01bcfc0c_nohash_0.wav   bed\n",
       "17    0227998e_nohash_0.wav   bed\n",
       "18    026290a7_nohash_0.wav   bed\n",
       "19    02746d24_nohash_0.wav   bed\n",
       "20    035de8fe_nohash_0.wav   bed\n",
       "21    0362539c_nohash_0.wav   bed\n",
       "22    0362539c_nohash_1.wav   bed\n",
       "23    037c445a_nohash_0.wav   bed\n",
       "24    0397ecda_nohash_0.wav   bed\n",
       "25    03c96658_nohash_0.wav   bed\n",
       "26    042186b8_nohash_0.wav   bed\n",
       "27    042ea76c_nohash_0.wav   bed\n",
       "28    0447d7c1_nohash_0.wav   bed\n",
       "29    0474c92a_nohash_0.wav   bed\n",
       "...                     ...   ...\n",
       "1683  fa7895de_nohash_0.wav   bed\n",
       "1684  fac7deca_nohash_0.wav   bed\n",
       "1685  fac7deca_nohash_1.wav   bed\n",
       "1686  facd97c0_nohash_0.wav   bed\n",
       "1687  fad7a69a_nohash_0.wav   bed\n",
       "1688  fafe8101_nohash_0.wav   bed\n",
       "1689  fb01a182_nohash_0.wav   bed\n",
       "1690  fb24c826_nohash_0.wav   bed\n",
       "1691  fb2f3242_nohash_0.wav   bed\n",
       "1692  fb7c9b3b_nohash_0.wav   bed\n",
       "1693  fb7c9b3b_nohash_1.wav   bed\n",
       "1694  fb7c9b3b_nohash_2.wav   bed\n",
       "1695  fbe51750_nohash_0.wav   bed\n",
       "1696  fbe51750_nohash_1.wav   bed\n",
       "1697  fbf3dd31_nohash_0.wav   bed\n",
       "1698  fbf3dd31_nohash_1.wav   bed\n",
       "1699  fc94edb0_nohash_0.wav   bed\n",
       "1700  fc94edb0_nohash_1.wav   bed\n",
       "1701  fce65496_nohash_0.wav   bed\n",
       "1702  fce96bac_nohash_0.wav   bed\n",
       "1703  fd32732a_nohash_0.wav   bed\n",
       "1704  fd395b74_nohash_0.wav   bed\n",
       "1705  fde2dee7_nohash_0.wav   bed\n",
       "1706  fe1916ba_nohash_0.wav   bed\n",
       "1707  fe291fa9_nohash_0.wav   bed\n",
       "1708  ffb86d3c_nohash_0.wav   bed\n",
       "1709  ffbb695d_nohash_0.wav   bed\n",
       "1710  ffd2ba2f_nohash_0.wav   bed\n",
       "1711  fffcabd1_nohash_0.wav   bed\n",
       "1712  fffcabd1_nohash_1.wav   bed\n",
       "\n",
       "[1713 rows x 2 columns]"
      ]
     },
     "execution_count": 13,
     "metadata": {},
     "output_type": "execute_result"
    }
   ],
   "source": [
    "subsetDataFrame"
   ]
  },
  {
   "cell_type": "code",
   "execution_count": 14,
   "metadata": {},
   "outputs": [
    {
     "name": "stderr",
     "output_type": "stream",
     "text": [
      "C:\\Users\\hafsa\\Anaconda3\\lib\\site-packages\\scipy\\signal\\_arraytools.py:45: FutureWarning: Using a non-tuple sequence for multidimensional indexing is deprecated; use `arr[tuple(seq)]` instead of `arr[seq]`. In the future this will be interpreted as an array index, `arr[np.array(seq)]`, which will result either in an error or a different result.\n",
      "  b = a[a_slice]\n"
     ]
    },
    {
     "name": "stdout",
     "output_type": "stream",
     "text": [
      "done loading train mfcc\n"
     ]
    }
   ],
   "source": [
    "train_data = pd.DataFrame()\n",
    "train_data['fname'] = subsetDataFrame['file']\n",
    "train_data = train_data['fname'].apply(get_mfcc, path='audio_samples/train/audio/bed/').apply(transform_mfcc)\n",
    "print('done loading train mfcc')"
   ]
  },
  {
   "cell_type": "code",
   "execution_count": 15,
   "metadata": {
    "collapsed": true
   },
   "outputs": [],
   "source": [
    "train_data['word'] = train['label']"
   ]
  },
  {
   "cell_type": "code",
   "execution_count": 16,
   "metadata": {},
   "outputs": [
    {
     "data": {
      "text/html": [
       "<div>\n",
       "<style>\n",
       "    .dataframe thead tr:only-child th {\n",
       "        text-align: right;\n",
       "    }\n",
       "\n",
       "    .dataframe thead th {\n",
       "        text-align: left;\n",
       "    }\n",
       "\n",
       "    .dataframe tbody tr th {\n",
       "        vertical-align: top;\n",
       "    }\n",
       "</style>\n",
       "<table border=\"1\" class=\"dataframe\">\n",
       "  <thead>\n",
       "    <tr style=\"text-align: right;\">\n",
       "      <th></th>\n",
       "      <th>0</th>\n",
       "      <th>1</th>\n",
       "      <th>2</th>\n",
       "      <th>3</th>\n",
       "      <th>4</th>\n",
       "      <th>5</th>\n",
       "      <th>6</th>\n",
       "      <th>7</th>\n",
       "      <th>8</th>\n",
       "      <th>9</th>\n",
       "      <th>...</th>\n",
       "      <th>225</th>\n",
       "      <th>226</th>\n",
       "      <th>227</th>\n",
       "      <th>228</th>\n",
       "      <th>229</th>\n",
       "      <th>230</th>\n",
       "      <th>231</th>\n",
       "      <th>232</th>\n",
       "      <th>233</th>\n",
       "      <th>word</th>\n",
       "    </tr>\n",
       "  </thead>\n",
       "  <tbody>\n",
       "    <tr>\n",
       "      <th>0</th>\n",
       "      <td>-768.943360</td>\n",
       "      <td>75.281516</td>\n",
       "      <td>-6.127648</td>\n",
       "      <td>28.258123</td>\n",
       "      <td>7.912945</td>\n",
       "      <td>-5.839312</td>\n",
       "      <td>-9.590038</td>\n",
       "      <td>-8.889294</td>\n",
       "      <td>-0.758801</td>\n",
       "      <td>0.839811</td>\n",
       "      <td>...</td>\n",
       "      <td>-3.091953</td>\n",
       "      <td>-1.951284</td>\n",
       "      <td>-2.212016</td>\n",
       "      <td>-3.850204</td>\n",
       "      <td>-0.896324</td>\n",
       "      <td>-1.413393</td>\n",
       "      <td>-2.015955</td>\n",
       "      <td>-1.729380</td>\n",
       "      <td>-1.423088</td>\n",
       "      <td>bed</td>\n",
       "    </tr>\n",
       "    <tr>\n",
       "      <th>1</th>\n",
       "      <td>-587.099245</td>\n",
       "      <td>55.608292</td>\n",
       "      <td>-69.100249</td>\n",
       "      <td>81.233755</td>\n",
       "      <td>-24.713254</td>\n",
       "      <td>10.341991</td>\n",
       "      <td>-2.582527</td>\n",
       "      <td>6.359282</td>\n",
       "      <td>2.309489</td>\n",
       "      <td>6.749812</td>\n",
       "      <td>...</td>\n",
       "      <td>-4.052969</td>\n",
       "      <td>-3.102639</td>\n",
       "      <td>-2.814981</td>\n",
       "      <td>-1.955563</td>\n",
       "      <td>-3.003451</td>\n",
       "      <td>-2.092617</td>\n",
       "      <td>-1.216518</td>\n",
       "      <td>-2.623285</td>\n",
       "      <td>-1.606822</td>\n",
       "      <td>bed</td>\n",
       "    </tr>\n",
       "    <tr>\n",
       "      <th>2</th>\n",
       "      <td>-515.146338</td>\n",
       "      <td>68.505114</td>\n",
       "      <td>-81.329167</td>\n",
       "      <td>88.987145</td>\n",
       "      <td>-30.714232</td>\n",
       "      <td>16.078043</td>\n",
       "      <td>-5.122750</td>\n",
       "      <td>10.798063</td>\n",
       "      <td>1.443282</td>\n",
       "      <td>10.467298</td>\n",
       "      <td>...</td>\n",
       "      <td>-2.450296</td>\n",
       "      <td>-3.956337</td>\n",
       "      <td>-3.592738</td>\n",
       "      <td>-1.790476</td>\n",
       "      <td>-1.969065</td>\n",
       "      <td>-2.555002</td>\n",
       "      <td>-0.842128</td>\n",
       "      <td>-1.925176</td>\n",
       "      <td>-1.686241</td>\n",
       "      <td>bed</td>\n",
       "    </tr>\n",
       "    <tr>\n",
       "      <th>3</th>\n",
       "      <td>-616.001177</td>\n",
       "      <td>121.430008</td>\n",
       "      <td>-19.593220</td>\n",
       "      <td>44.188299</td>\n",
       "      <td>-5.241854</td>\n",
       "      <td>10.341423</td>\n",
       "      <td>-19.207170</td>\n",
       "      <td>16.033597</td>\n",
       "      <td>4.118385</td>\n",
       "      <td>-2.983866</td>\n",
       "      <td>...</td>\n",
       "      <td>-4.546568</td>\n",
       "      <td>-3.937329</td>\n",
       "      <td>-5.026003</td>\n",
       "      <td>-1.698162</td>\n",
       "      <td>-1.344925</td>\n",
       "      <td>-2.185441</td>\n",
       "      <td>-1.586013</td>\n",
       "      <td>-1.163988</td>\n",
       "      <td>-1.590450</td>\n",
       "      <td>bed</td>\n",
       "    </tr>\n",
       "    <tr>\n",
       "      <th>4</th>\n",
       "      <td>-632.850599</td>\n",
       "      <td>119.791629</td>\n",
       "      <td>-15.088769</td>\n",
       "      <td>41.959895</td>\n",
       "      <td>-4.890035</td>\n",
       "      <td>9.337283</td>\n",
       "      <td>-14.600092</td>\n",
       "      <td>15.055539</td>\n",
       "      <td>6.877917</td>\n",
       "      <td>0.945635</td>\n",
       "      <td>...</td>\n",
       "      <td>-3.424481</td>\n",
       "      <td>-3.448728</td>\n",
       "      <td>-4.094031</td>\n",
       "      <td>-2.201777</td>\n",
       "      <td>-1.859824</td>\n",
       "      <td>-1.498480</td>\n",
       "      <td>-1.479055</td>\n",
       "      <td>-1.477093</td>\n",
       "      <td>-1.547634</td>\n",
       "      <td>bed</td>\n",
       "    </tr>\n",
       "  </tbody>\n",
       "</table>\n",
       "<p>5 rows × 235 columns</p>\n",
       "</div>"
      ],
      "text/plain": [
       "            0           1          2          3          4          5  \\\n",
       "0 -768.943360   75.281516  -6.127648  28.258123   7.912945  -5.839312   \n",
       "1 -587.099245   55.608292 -69.100249  81.233755 -24.713254  10.341991   \n",
       "2 -515.146338   68.505114 -81.329167  88.987145 -30.714232  16.078043   \n",
       "3 -616.001177  121.430008 -19.593220  44.188299  -5.241854  10.341423   \n",
       "4 -632.850599  119.791629 -15.088769  41.959895  -4.890035   9.337283   \n",
       "\n",
       "           6          7         8          9  ...        225       226  \\\n",
       "0  -9.590038  -8.889294 -0.758801   0.839811  ...  -3.091953 -1.951284   \n",
       "1  -2.582527   6.359282  2.309489   6.749812  ...  -4.052969 -3.102639   \n",
       "2  -5.122750  10.798063  1.443282  10.467298  ...  -2.450296 -3.956337   \n",
       "3 -19.207170  16.033597  4.118385  -2.983866  ...  -4.546568 -3.937329   \n",
       "4 -14.600092  15.055539  6.877917   0.945635  ...  -3.424481 -3.448728   \n",
       "\n",
       "        227       228       229       230       231       232       233  word  \n",
       "0 -2.212016 -3.850204 -0.896324 -1.413393 -2.015955 -1.729380 -1.423088   bed  \n",
       "1 -2.814981 -1.955563 -3.003451 -2.092617 -1.216518 -2.623285 -1.606822   bed  \n",
       "2 -3.592738 -1.790476 -1.969065 -2.555002 -0.842128 -1.925176 -1.686241   bed  \n",
       "3 -5.026003 -1.698162 -1.344925 -2.185441 -1.586013 -1.163988 -1.590450   bed  \n",
       "4 -4.094031 -2.201777 -1.859824 -1.498480 -1.479055 -1.477093 -1.547634   bed  \n",
       "\n",
       "[5 rows x 235 columns]"
      ]
     },
     "execution_count": 16,
     "metadata": {},
     "output_type": "execute_result"
    }
   ],
   "source": [
    "train_data.head()"
   ]
  },
  {
   "cell_type": "code",
   "execution_count": 17,
   "metadata": {
    "collapsed": true
   },
   "outputs": [],
   "source": [
    "train_data.to_csv('bed.csv', index = False)"
   ]
  },
  {
   "cell_type": "markdown",
   "metadata": {},
   "source": [
    "# convert the word 'bird' audios to mfcc DataFrame\n"
   ]
  },
  {
   "cell_type": "code",
   "execution_count": 18,
   "metadata": {
    "collapsed": true
   },
   "outputs": [],
   "source": [
    "subsetDataFrame2 = train[train['label'] == 'bird']"
   ]
  },
  {
   "cell_type": "code",
   "execution_count": null,
   "metadata": {},
   "outputs": [
    {
     "data": {
      "text/html": [
       "<div>\n",
       "<style>\n",
       "    .dataframe thead tr:only-child th {\n",
       "        text-align: right;\n",
       "    }\n",
       "\n",
       "    .dataframe thead th {\n",
       "        text-align: left;\n",
       "    }\n",
       "\n",
       "    .dataframe tbody tr th {\n",
       "        vertical-align: top;\n",
       "    }\n",
       "</style>\n",
       "<table border=\"1\" class=\"dataframe\">\n",
       "  <thead>\n",
       "    <tr style=\"text-align: right;\">\n",
       "      <th></th>\n",
       "      <th>file</th>\n",
       "      <th>label</th>\n",
       "    </tr>\n",
       "  </thead>\n",
       "  <tbody>\n",
       "    <tr>\n",
       "      <th>1713</th>\n",
       "      <td>00b01445_nohash_0.wav</td>\n",
       "      <td>bird</td>\n",
       "    </tr>\n",
       "    <tr>\n",
       "      <th>1714</th>\n",
       "      <td>00f0204f_nohash_0.wav</td>\n",
       "      <td>bird</td>\n",
       "    </tr>\n",
       "    <tr>\n",
       "      <th>1715</th>\n",
       "      <td>00f0204f_nohash_1.wav</td>\n",
       "      <td>bird</td>\n",
       "    </tr>\n",
       "    <tr>\n",
       "      <th>1716</th>\n",
       "      <td>00f0204f_nohash_2.wav</td>\n",
       "      <td>bird</td>\n",
       "    </tr>\n",
       "    <tr>\n",
       "      <th>1717</th>\n",
       "      <td>00f0204f_nohash_3.wav</td>\n",
       "      <td>bird</td>\n",
       "    </tr>\n",
       "    <tr>\n",
       "      <th>1718</th>\n",
       "      <td>012c8314_nohash_0.wav</td>\n",
       "      <td>bird</td>\n",
       "    </tr>\n",
       "    <tr>\n",
       "      <th>1719</th>\n",
       "      <td>0132a06d_nohash_0.wav</td>\n",
       "      <td>bird</td>\n",
       "    </tr>\n",
       "    <tr>\n",
       "      <th>1720</th>\n",
       "      <td>0135f3f2_nohash_0.wav</td>\n",
       "      <td>bird</td>\n",
       "    </tr>\n",
       "    <tr>\n",
       "      <th>1721</th>\n",
       "      <td>0137b3f4_nohash_0.wav</td>\n",
       "      <td>bird</td>\n",
       "    </tr>\n",
       "    <tr>\n",
       "      <th>1722</th>\n",
       "      <td>014f9f65_nohash_0.wav</td>\n",
       "      <td>bird</td>\n",
       "    </tr>\n",
       "    <tr>\n",
       "      <th>1723</th>\n",
       "      <td>01648c51_nohash_0.wav</td>\n",
       "      <td>bird</td>\n",
       "    </tr>\n",
       "    <tr>\n",
       "      <th>1724</th>\n",
       "      <td>016e2c6d_nohash_0.wav</td>\n",
       "      <td>bird</td>\n",
       "    </tr>\n",
       "    <tr>\n",
       "      <th>1725</th>\n",
       "      <td>019fa366_nohash_0.wav</td>\n",
       "      <td>bird</td>\n",
       "    </tr>\n",
       "    <tr>\n",
       "      <th>1726</th>\n",
       "      <td>01bcfc0c_nohash_0.wav</td>\n",
       "      <td>bird</td>\n",
       "    </tr>\n",
       "    <tr>\n",
       "      <th>1727</th>\n",
       "      <td>01bcfc0c_nohash_1.wav</td>\n",
       "      <td>bird</td>\n",
       "    </tr>\n",
       "    <tr>\n",
       "      <th>1728</th>\n",
       "      <td>022cd682_nohash_0.wav</td>\n",
       "      <td>bird</td>\n",
       "    </tr>\n",
       "    <tr>\n",
       "      <th>1729</th>\n",
       "      <td>02e85b60_nohash_0.wav</td>\n",
       "      <td>bird</td>\n",
       "    </tr>\n",
       "    <tr>\n",
       "      <th>1730</th>\n",
       "      <td>02e85b60_nohash_1.wav</td>\n",
       "      <td>bird</td>\n",
       "    </tr>\n",
       "    <tr>\n",
       "      <th>1731</th>\n",
       "      <td>02e85b60_nohash_2.wav</td>\n",
       "      <td>bird</td>\n",
       "    </tr>\n",
       "    <tr>\n",
       "      <th>1732</th>\n",
       "      <td>0397ecda_nohash_0.wav</td>\n",
       "      <td>bird</td>\n",
       "    </tr>\n",
       "    <tr>\n",
       "      <th>1733</th>\n",
       "      <td>042186b8_nohash_0.wav</td>\n",
       "      <td>bird</td>\n",
       "    </tr>\n",
       "    <tr>\n",
       "      <th>1734</th>\n",
       "      <td>042ea76c_nohash_0.wav</td>\n",
       "      <td>bird</td>\n",
       "    </tr>\n",
       "    <tr>\n",
       "      <th>1735</th>\n",
       "      <td>0474c92a_nohash_0.wav</td>\n",
       "      <td>bird</td>\n",
       "    </tr>\n",
       "    <tr>\n",
       "      <th>1736</th>\n",
       "      <td>05739450_nohash_0.wav</td>\n",
       "      <td>bird</td>\n",
       "    </tr>\n",
       "    <tr>\n",
       "      <th>1737</th>\n",
       "      <td>06076b6b_nohash_0.wav</td>\n",
       "      <td>bird</td>\n",
       "    </tr>\n",
       "    <tr>\n",
       "      <th>1738</th>\n",
       "      <td>06076b6b_nohash_1.wav</td>\n",
       "      <td>bird</td>\n",
       "    </tr>\n",
       "    <tr>\n",
       "      <th>1739</th>\n",
       "      <td>0685264e_nohash_0.wav</td>\n",
       "      <td>bird</td>\n",
       "    </tr>\n",
       "    <tr>\n",
       "      <th>1740</th>\n",
       "      <td>070b49af_nohash_0.wav</td>\n",
       "      <td>bird</td>\n",
       "    </tr>\n",
       "    <tr>\n",
       "      <th>1741</th>\n",
       "      <td>07ad9b59_nohash_0.wav</td>\n",
       "      <td>bird</td>\n",
       "    </tr>\n",
       "    <tr>\n",
       "      <th>1742</th>\n",
       "      <td>08ab8082_nohash_0.wav</td>\n",
       "      <td>bird</td>\n",
       "    </tr>\n",
       "    <tr>\n",
       "      <th>...</th>\n",
       "      <td>...</td>\n",
       "      <td>...</td>\n",
       "    </tr>\n",
       "    <tr>\n",
       "      <th>3414</th>\n",
       "      <td>fad7a69a_nohash_0.wav</td>\n",
       "      <td>bird</td>\n",
       "    </tr>\n",
       "    <tr>\n",
       "      <th>3415</th>\n",
       "      <td>fad7a69a_nohash_1.wav</td>\n",
       "      <td>bird</td>\n",
       "    </tr>\n",
       "    <tr>\n",
       "      <th>3416</th>\n",
       "      <td>fafe8101_nohash_0.wav</td>\n",
       "      <td>bird</td>\n",
       "    </tr>\n",
       "    <tr>\n",
       "      <th>3417</th>\n",
       "      <td>fb2f3242_nohash_0.wav</td>\n",
       "      <td>bird</td>\n",
       "    </tr>\n",
       "    <tr>\n",
       "      <th>3418</th>\n",
       "      <td>fb7c9b3b_nohash_0.wav</td>\n",
       "      <td>bird</td>\n",
       "    </tr>\n",
       "    <tr>\n",
       "      <th>3419</th>\n",
       "      <td>fb9d6d23_nohash_0.wav</td>\n",
       "      <td>bird</td>\n",
       "    </tr>\n",
       "    <tr>\n",
       "      <th>3420</th>\n",
       "      <td>fbdc07bb_nohash_0.wav</td>\n",
       "      <td>bird</td>\n",
       "    </tr>\n",
       "    <tr>\n",
       "      <th>3421</th>\n",
       "      <td>fbe51750_nohash_0.wav</td>\n",
       "      <td>bird</td>\n",
       "    </tr>\n",
       "    <tr>\n",
       "      <th>3422</th>\n",
       "      <td>fbf3dd31_nohash_0.wav</td>\n",
       "      <td>bird</td>\n",
       "    </tr>\n",
       "    <tr>\n",
       "      <th>3423</th>\n",
       "      <td>fbf3dd31_nohash_1.wav</td>\n",
       "      <td>bird</td>\n",
       "    </tr>\n",
       "    <tr>\n",
       "      <th>3424</th>\n",
       "      <td>fc94edb0_nohash_0.wav</td>\n",
       "      <td>bird</td>\n",
       "    </tr>\n",
       "    <tr>\n",
       "      <th>3425</th>\n",
       "      <td>fc94edb0_nohash_1.wav</td>\n",
       "      <td>bird</td>\n",
       "    </tr>\n",
       "    <tr>\n",
       "      <th>3426</th>\n",
       "      <td>fce65496_nohash_0.wav</td>\n",
       "      <td>bird</td>\n",
       "    </tr>\n",
       "    <tr>\n",
       "      <th>3427</th>\n",
       "      <td>fd395b74_nohash_0.wav</td>\n",
       "      <td>bird</td>\n",
       "    </tr>\n",
       "    <tr>\n",
       "      <th>3428</th>\n",
       "      <td>fda46b78_nohash_0.wav</td>\n",
       "      <td>bird</td>\n",
       "    </tr>\n",
       "    <tr>\n",
       "      <th>3429</th>\n",
       "      <td>fda46b78_nohash_1.wav</td>\n",
       "      <td>bird</td>\n",
       "    </tr>\n",
       "    <tr>\n",
       "      <th>3430</th>\n",
       "      <td>fda46b78_nohash_2.wav</td>\n",
       "      <td>bird</td>\n",
       "    </tr>\n",
       "    <tr>\n",
       "      <th>3431</th>\n",
       "      <td>fde2dee7_nohash_0.wav</td>\n",
       "      <td>bird</td>\n",
       "    </tr>\n",
       "    <tr>\n",
       "      <th>3432</th>\n",
       "      <td>fde2dee7_nohash_1.wav</td>\n",
       "      <td>bird</td>\n",
       "    </tr>\n",
       "    <tr>\n",
       "      <th>3433</th>\n",
       "      <td>fe291fa9_nohash_0.wav</td>\n",
       "      <td>bird</td>\n",
       "    </tr>\n",
       "    <tr>\n",
       "      <th>3434</th>\n",
       "      <td>fe291fa9_nohash_1.wav</td>\n",
       "      <td>bird</td>\n",
       "    </tr>\n",
       "    <tr>\n",
       "      <th>3435</th>\n",
       "      <td>fe5c4a7a_nohash_0.wav</td>\n",
       "      <td>bird</td>\n",
       "    </tr>\n",
       "    <tr>\n",
       "      <th>3436</th>\n",
       "      <td>fe5c4a7a_nohash_1.wav</td>\n",
       "      <td>bird</td>\n",
       "    </tr>\n",
       "    <tr>\n",
       "      <th>3437</th>\n",
       "      <td>ff63ab0b_nohash_0.wav</td>\n",
       "      <td>bird</td>\n",
       "    </tr>\n",
       "    <tr>\n",
       "      <th>3438</th>\n",
       "      <td>ff63ab0b_nohash_1.wav</td>\n",
       "      <td>bird</td>\n",
       "    </tr>\n",
       "    <tr>\n",
       "      <th>3439</th>\n",
       "      <td>ff63ab0b_nohash_2.wav</td>\n",
       "      <td>bird</td>\n",
       "    </tr>\n",
       "    <tr>\n",
       "      <th>3440</th>\n",
       "      <td>ffa76c4a_nohash_0.wav</td>\n",
       "      <td>bird</td>\n",
       "    </tr>\n",
       "    <tr>\n",
       "      <th>3441</th>\n",
       "      <td>ffb86d3c_nohash_0.wav</td>\n",
       "      <td>bird</td>\n",
       "    </tr>\n",
       "    <tr>\n",
       "      <th>3442</th>\n",
       "      <td>ffb86d3c_nohash_1.wav</td>\n",
       "      <td>bird</td>\n",
       "    </tr>\n",
       "    <tr>\n",
       "      <th>3443</th>\n",
       "      <td>ffd2ba2f_nohash_0.wav</td>\n",
       "      <td>bird</td>\n",
       "    </tr>\n",
       "  </tbody>\n",
       "</table>\n",
       "<p>1731 rows × 2 columns</p>\n",
       "</div>"
      ],
      "text/plain": [
       "                       file label\n",
       "1713  00b01445_nohash_0.wav  bird\n",
       "1714  00f0204f_nohash_0.wav  bird\n",
       "1715  00f0204f_nohash_1.wav  bird\n",
       "1716  00f0204f_nohash_2.wav  bird\n",
       "1717  00f0204f_nohash_3.wav  bird\n",
       "1718  012c8314_nohash_0.wav  bird\n",
       "1719  0132a06d_nohash_0.wav  bird\n",
       "1720  0135f3f2_nohash_0.wav  bird\n",
       "1721  0137b3f4_nohash_0.wav  bird\n",
       "1722  014f9f65_nohash_0.wav  bird\n",
       "1723  01648c51_nohash_0.wav  bird\n",
       "1724  016e2c6d_nohash_0.wav  bird\n",
       "1725  019fa366_nohash_0.wav  bird\n",
       "1726  01bcfc0c_nohash_0.wav  bird\n",
       "1727  01bcfc0c_nohash_1.wav  bird\n",
       "1728  022cd682_nohash_0.wav  bird\n",
       "1729  02e85b60_nohash_0.wav  bird\n",
       "1730  02e85b60_nohash_1.wav  bird\n",
       "1731  02e85b60_nohash_2.wav  bird\n",
       "1732  0397ecda_nohash_0.wav  bird\n",
       "1733  042186b8_nohash_0.wav  bird\n",
       "1734  042ea76c_nohash_0.wav  bird\n",
       "1735  0474c92a_nohash_0.wav  bird\n",
       "1736  05739450_nohash_0.wav  bird\n",
       "1737  06076b6b_nohash_0.wav  bird\n",
       "1738  06076b6b_nohash_1.wav  bird\n",
       "1739  0685264e_nohash_0.wav  bird\n",
       "1740  070b49af_nohash_0.wav  bird\n",
       "1741  07ad9b59_nohash_0.wav  bird\n",
       "1742  08ab8082_nohash_0.wav  bird\n",
       "...                     ...   ...\n",
       "3414  fad7a69a_nohash_0.wav  bird\n",
       "3415  fad7a69a_nohash_1.wav  bird\n",
       "3416  fafe8101_nohash_0.wav  bird\n",
       "3417  fb2f3242_nohash_0.wav  bird\n",
       "3418  fb7c9b3b_nohash_0.wav  bird\n",
       "3419  fb9d6d23_nohash_0.wav  bird\n",
       "3420  fbdc07bb_nohash_0.wav  bird\n",
       "3421  fbe51750_nohash_0.wav  bird\n",
       "3422  fbf3dd31_nohash_0.wav  bird\n",
       "3423  fbf3dd31_nohash_1.wav  bird\n",
       "3424  fc94edb0_nohash_0.wav  bird\n",
       "3425  fc94edb0_nohash_1.wav  bird\n",
       "3426  fce65496_nohash_0.wav  bird\n",
       "3427  fd395b74_nohash_0.wav  bird\n",
       "3428  fda46b78_nohash_0.wav  bird\n",
       "3429  fda46b78_nohash_1.wav  bird\n",
       "3430  fda46b78_nohash_2.wav  bird\n",
       "3431  fde2dee7_nohash_0.wav  bird\n",
       "3432  fde2dee7_nohash_1.wav  bird\n",
       "3433  fe291fa9_nohash_0.wav  bird\n",
       "3434  fe291fa9_nohash_1.wav  bird\n",
       "3435  fe5c4a7a_nohash_0.wav  bird\n",
       "3436  fe5c4a7a_nohash_1.wav  bird\n",
       "3437  ff63ab0b_nohash_0.wav  bird\n",
       "3438  ff63ab0b_nohash_1.wav  bird\n",
       "3439  ff63ab0b_nohash_2.wav  bird\n",
       "3440  ffa76c4a_nohash_0.wav  bird\n",
       "3441  ffb86d3c_nohash_0.wav  bird\n",
       "3442  ffb86d3c_nohash_1.wav  bird\n",
       "3443  ffd2ba2f_nohash_0.wav  bird\n",
       "\n",
       "[1731 rows x 2 columns]"
      ]
     },
     "execution_count": 19,
     "metadata": {},
     "output_type": "execute_result"
    }
   ],
   "source": [
    "subsetDataFrame2"
   ]
  },
  {
   "cell_type": "code",
   "execution_count": null,
   "metadata": {},
   "outputs": [
    {
     "name": "stderr",
     "output_type": "stream",
     "text": [
      "C:\\Users\\hafsa\\Anaconda3\\lib\\site-packages\\scipy\\signal\\_arraytools.py:45: FutureWarning: Using a non-tuple sequence for multidimensional indexing is deprecated; use `arr[tuple(seq)]` instead of `arr[seq]`. In the future this will be interpreted as an array index, `arr[np.array(seq)]`, which will result either in an error or a different result.\n",
      "  b = a[a_slice]\n"
     ]
    }
   ],
   "source": [
    "train_data2 = pd.DataFrame()\n",
    "train_data2['fname'] = subsetDataFrame2['file']\n",
    "train_data2 = train_data2['fname'].apply(get_mfcc, path='audio_samples/train/audio/bird/').apply(transform_mfcc)\n",
    "print('done loading train mfcc')"
   ]
  },
  {
   "cell_type": "code",
   "execution_count": null,
   "metadata": {
    "collapsed": true
   },
   "outputs": [],
   "source": [
    "train_data2['word'] = subsetDataFrame2['label']"
   ]
  },
  {
   "cell_type": "code",
   "execution_count": null,
   "metadata": {
    "collapsed": true
   },
   "outputs": [],
   "source": [
    "train_data2.head()"
   ]
  },
  {
   "cell_type": "code",
   "execution_count": null,
   "metadata": {
    "collapsed": true
   },
   "outputs": [],
   "source": [
    "train_data2.to_csv('bird.csv', index = False)"
   ]
  },
  {
   "cell_type": "markdown",
   "metadata": {},
   "source": [
    "# convert the word 'cat' audios to mfcc DataFrame\n"
   ]
  },
  {
   "cell_type": "code",
   "execution_count": null,
   "metadata": {
    "collapsed": true
   },
   "outputs": [],
   "source": [
    "subsetDataFrame3 = train[train['label'] == 'cat']"
   ]
  },
  {
   "cell_type": "code",
   "execution_count": null,
   "metadata": {
    "collapsed": true
   },
   "outputs": [],
   "source": [
    "subsetDataFrame3"
   ]
  },
  {
   "cell_type": "code",
   "execution_count": null,
   "metadata": {
    "collapsed": true
   },
   "outputs": [],
   "source": [
    "train_data3 = pd.DataFrame()\n",
    "train_data3['fname'] = subsetDataFrame3['file']\n",
    "train_data3 = train_data3['fname'].apply(get_mfcc, path='audio_samples/train/audio/cat/').apply(transform_mfcc)\n",
    "print('done loading train mfcc')"
   ]
  },
  {
   "cell_type": "code",
   "execution_count": null,
   "metadata": {
    "collapsed": true
   },
   "outputs": [],
   "source": [
    "train_data3['word'] = subsetDataFrame3['label']"
   ]
  },
  {
   "cell_type": "code",
   "execution_count": null,
   "metadata": {
    "collapsed": true
   },
   "outputs": [],
   "source": [
    "train_data3.head()"
   ]
  },
  {
   "cell_type": "markdown",
   "metadata": {},
   "source": [
    "# convert the word 'happy' audios to mfcc DataFrame"
   ]
  },
  {
   "cell_type": "code",
   "execution_count": null,
   "metadata": {
    "collapsed": true
   },
   "outputs": [],
   "source": [
    "subsetDataFrame4 = train[train['label'] == 'happy']\n",
    "train_data4 = pd.DataFrame()\n",
    "train_data4['fname'] = subsetDataFrame4['file']\n",
    "train_data4 = train_data4['fname'].apply(get_mfcc, path='audio_samples/train/audio/happy/').apply(transform_mfcc)\n",
    "print('done loading train mfcc')"
   ]
  },
  {
   "cell_type": "code",
   "execution_count": null,
   "metadata": {
    "collapsed": true
   },
   "outputs": [],
   "source": [
    "train_data4.head()"
   ]
  },
  {
   "cell_type": "code",
   "execution_count": null,
   "metadata": {
    "collapsed": true
   },
   "outputs": [],
   "source": [
    "train_data4['word'] = subsetDataFrame4['label']"
   ]
  },
  {
   "cell_type": "code",
   "execution_count": null,
   "metadata": {
    "collapsed": true
   },
   "outputs": [],
   "source": [
    "train_data4.head()"
   ]
  },
  {
   "cell_type": "markdown",
   "metadata": {},
   "source": [
    "# convert the word 'house' audios to mfcc DataFrame"
   ]
  },
  {
   "cell_type": "code",
   "execution_count": null,
   "metadata": {
    "collapsed": true
   },
   "outputs": [],
   "source": [
    "subsetDataFrame5 = train[train['label'] == 'house']\n",
    "train_data5 = pd.DataFrame()\n",
    "train_data5['fname'] = subsetDataFrame5['file']\n",
    "train_data5 = train_data5['fname'].apply(get_mfcc, path='audio_samples/train/audio/house/').apply(transform_mfcc)\n",
    "print('done loading train mfcc')"
   ]
  },
  {
   "cell_type": "code",
   "execution_count": null,
   "metadata": {
    "collapsed": true
   },
   "outputs": [],
   "source": [
    "train_data5.head()"
   ]
  },
  {
   "cell_type": "code",
   "execution_count": null,
   "metadata": {
    "collapsed": true
   },
   "outputs": [],
   "source": [
    "train_data5['word'] = subsetDataFrame5['label']"
   ]
  },
  {
   "cell_type": "code",
   "execution_count": null,
   "metadata": {
    "collapsed": true
   },
   "outputs": [],
   "source": [
    "train_data5.head()"
   ]
  },
  {
   "cell_type": "code",
   "execution_count": null,
   "metadata": {
    "collapsed": true
   },
   "outputs": [],
   "source": [
    "final_df=pd.concat([train_data,train_data2,train_data3,train_data4,train_data5])"
   ]
  },
  {
   "cell_type": "code",
   "execution_count": null,
   "metadata": {
    "collapsed": true
   },
   "outputs": [],
   "source": [
    "final_df.head()"
   ]
  },
  {
   "cell_type": "code",
   "execution_count": null,
   "metadata": {
    "collapsed": true
   },
   "outputs": [],
   "source": [
    "final_df.tail()"
   ]
  },
  {
   "cell_type": "code",
   "execution_count": null,
   "metadata": {
    "collapsed": true
   },
   "outputs": [],
   "source": [
    "final_df.to_csv('trainmfcc.csv', index = False)"
   ]
  },
  {
   "cell_type": "code",
   "execution_count": null,
   "metadata": {
    "collapsed": true
   },
   "outputs": [],
   "source": []
  },
  {
   "cell_type": "code",
   "execution_count": null,
   "metadata": {
    "collapsed": true
   },
   "outputs": [],
   "source": [
    "subsetDataFrame6 = train[train['label'] == 'dog']\n",
    "train_data6 = pd.DataFrame()\n",
    "train_data6['fname'] = subsetDataFrame6['file']\n",
    "train_data6 = train_data6['fname'].apply(get_mfcc, path='audio_samples/train/audio/dog/').apply(transform_mfcc)\n",
    "print('done loading train mfcc')"
   ]
  },
  {
   "cell_type": "code",
   "execution_count": null,
   "metadata": {
    "collapsed": true
   },
   "outputs": [],
   "source": [
    "train_data6['word'] = subsetDataFrame6['label']"
   ]
  },
  {
   "cell_type": "code",
   "execution_count": null,
   "metadata": {
    "collapsed": true
   },
   "outputs": [],
   "source": []
  },
  {
   "cell_type": "code",
   "execution_count": null,
   "metadata": {
    "collapsed": true
   },
   "outputs": [],
   "source": [
    "subsetDataFrame7 = train[train['label'] == 'down']\n",
    "train_data7 = pd.DataFrame()\n",
    "train_data7['fname'] = subsetDataFrame7['file']\n",
    "train_data7 = train_data7['fname'].apply(get_mfcc, path='audio_samples/train/audio/down/').apply(transform_mfcc)\n",
    "print('done loading train mfcc')"
   ]
  },
  {
   "cell_type": "code",
   "execution_count": null,
   "metadata": {
    "collapsed": true
   },
   "outputs": [],
   "source": [
    "train_data7['word'] = subsetDataFrame7['label']"
   ]
  },
  {
   "cell_type": "code",
   "execution_count": null,
   "metadata": {
    "collapsed": true
   },
   "outputs": [],
   "source": []
  },
  {
   "cell_type": "code",
   "execution_count": null,
   "metadata": {
    "collapsed": true
   },
   "outputs": [],
   "source": [
    "subsetDataFrame8 = train[train['label'] == 'eight']\n",
    "train_data8 = pd.DataFrame()\n",
    "train_data8['fname'] = subsetDataFrame8['file']\n",
    "train_data8 = train_data8['fname'].apply(get_mfcc, path='audio_samples/train/audio/eight/').apply(transform_mfcc)\n",
    "print('done loading train mfcc')"
   ]
  },
  {
   "cell_type": "code",
   "execution_count": null,
   "metadata": {
    "collapsed": true
   },
   "outputs": [],
   "source": [
    "train_data8['word'] = subsetDataFrame8['label']"
   ]
  },
  {
   "cell_type": "code",
   "execution_count": null,
   "metadata": {
    "collapsed": true
   },
   "outputs": [],
   "source": [
    "# five "
   ]
  },
  {
   "cell_type": "code",
   "execution_count": null,
   "metadata": {
    "collapsed": true
   },
   "outputs": [],
   "source": [
    "subsetDataFrame9 = train[train['label'] == 'five']\n",
    "train_data9 = pd.DataFrame()\n",
    "train_data9['fname'] = subsetDataFrame9['file']\n",
    "train_data9 = train_data9['fname'].apply(get_mfcc, path='audio_samples/train/audio/five/').apply(transform_mfcc)\n",
    "print('done loading train mfcc')"
   ]
  },
  {
   "cell_type": "code",
   "execution_count": null,
   "metadata": {
    "collapsed": true
   },
   "outputs": [],
   "source": [
    "train_data9['word'] = subsetDataFrame9['label']"
   ]
  },
  {
   "cell_type": "code",
   "execution_count": null,
   "metadata": {
    "collapsed": true
   },
   "outputs": [],
   "source": [
    "# four "
   ]
  },
  {
   "cell_type": "code",
   "execution_count": null,
   "metadata": {
    "collapsed": true
   },
   "outputs": [],
   "source": [
    "subsetDataFrame10 = train[train['label'] == 'four']\n",
    "train_data10 = pd.DataFrame()\n",
    "train_data10['fname'] = subsetDataFrame10['file']\n",
    "train_data10 = train_data10['fname'].apply(get_mfcc, path='audio_samples/train/audio/four/').apply(transform_mfcc)\n",
    "print('done loading train mfcc')"
   ]
  },
  {
   "cell_type": "code",
   "execution_count": null,
   "metadata": {
    "collapsed": true
   },
   "outputs": [],
   "source": [
    "train_data10['word'] = subsetDataFrame10['label']"
   ]
  },
  {
   "cell_type": "code",
   "execution_count": null,
   "metadata": {
    "collapsed": true
   },
   "outputs": [],
   "source": [
    "# go"
   ]
  },
  {
   "cell_type": "code",
   "execution_count": null,
   "metadata": {
    "collapsed": true
   },
   "outputs": [],
   "source": [
    "subsetDataFrame11 = train[train['label'] == 'go']\n",
    "train_data11 = pd.DataFrame()\n",
    "train_data11['fname'] = subsetDataFrame11['file']\n",
    "train_data11 = train_data11['fname'].apply(get_mfcc, path='audio_samples/train/audio/go/').apply(transform_mfcc)\n",
    "print('done loading train mfcc')"
   ]
  },
  {
   "cell_type": "code",
   "execution_count": null,
   "metadata": {
    "collapsed": true
   },
   "outputs": [],
   "source": [
    "train_data11['word'] = subsetDataFrame11['label']"
   ]
  },
  {
   "cell_type": "code",
   "execution_count": null,
   "metadata": {
    "collapsed": true
   },
   "outputs": [],
   "source": [
    "# left "
   ]
  },
  {
   "cell_type": "code",
   "execution_count": null,
   "metadata": {
    "collapsed": true
   },
   "outputs": [],
   "source": [
    "subsetDataFrame12 = train[train['label'] == 'left']\n",
    "train_data12 = pd.DataFrame()\n",
    "train_data12['fname'] = subsetDataFrame12['file']\n",
    "train_data12 = train_data12['fname'].apply(get_mfcc, path='audio_samples/train/audio/left/').apply(transform_mfcc)\n",
    "print('done loading train mfcc')"
   ]
  },
  {
   "cell_type": "code",
   "execution_count": null,
   "metadata": {
    "collapsed": true
   },
   "outputs": [],
   "source": [
    "train_data12['word'] = subsetDataFrame12['label']"
   ]
  },
  {
   "cell_type": "code",
   "execution_count": null,
   "metadata": {
    "collapsed": true
   },
   "outputs": [],
   "source": [
    "# marvin"
   ]
  },
  {
   "cell_type": "code",
   "execution_count": null,
   "metadata": {
    "collapsed": true
   },
   "outputs": [],
   "source": [
    "subsetDataFrame13 = train[train['label'] == 'marvin']\n",
    "train_data13 = pd.DataFrame()\n",
    "train_data13['fname'] = subsetDataFrame13['file']\n",
    "train_data13 = train_data13['fname'].apply(get_mfcc, path='audio_samples/train/audio/marvin/').apply(transform_mfcc)\n",
    "print('done loading train mfcc')"
   ]
  },
  {
   "cell_type": "code",
   "execution_count": null,
   "metadata": {
    "collapsed": true
   },
   "outputs": [],
   "source": [
    "train_data13['word'] = subsetDataFrame13['label']"
   ]
  },
  {
   "cell_type": "code",
   "execution_count": null,
   "metadata": {
    "collapsed": true
   },
   "outputs": [],
   "source": [
    "# nine"
   ]
  },
  {
   "cell_type": "code",
   "execution_count": null,
   "metadata": {
    "collapsed": true
   },
   "outputs": [],
   "source": [
    "subsetDataFrame14 = train[train['label'] == 'nine']\n",
    "train_data14 = pd.DataFrame()\n",
    "train_data14['fname'] = subsetDataFrame14['file']\n",
    "train_data14 = train_data14['fname'].apply(get_mfcc, path='audio_samples/train/audio/nine/').apply(transform_mfcc)\n",
    "print('done loading train mfcc')"
   ]
  },
  {
   "cell_type": "code",
   "execution_count": null,
   "metadata": {
    "collapsed": true
   },
   "outputs": [],
   "source": [
    "train_data14['word'] = subsetDataFrame14['label']"
   ]
  },
  {
   "cell_type": "code",
   "execution_count": null,
   "metadata": {
    "collapsed": true
   },
   "outputs": [],
   "source": [
    "# no"
   ]
  },
  {
   "cell_type": "code",
   "execution_count": null,
   "metadata": {
    "collapsed": true
   },
   "outputs": [],
   "source": [
    "subsetDataFrame15 = train[train['label'] == 'no']\n",
    "train_data15 = pd.DataFrame()\n",
    "train_data15['fname'] = subsetDataFrame15['file']\n",
    "train_data15 = train_data15['fname'].apply(get_mfcc, path='audio_samples/train/audio/no/').apply(transform_mfcc)\n",
    "print('done loading train mfcc')"
   ]
  },
  {
   "cell_type": "code",
   "execution_count": null,
   "metadata": {
    "collapsed": true
   },
   "outputs": [],
   "source": [
    "train_data15['word'] = subsetDataFrame15['label']"
   ]
  },
  {
   "cell_type": "code",
   "execution_count": null,
   "metadata": {
    "collapsed": true
   },
   "outputs": [],
   "source": [
    "# off "
   ]
  },
  {
   "cell_type": "code",
   "execution_count": null,
   "metadata": {
    "collapsed": true
   },
   "outputs": [],
   "source": [
    "subsetDataFrame16 = train[train['label'] == 'off']\n",
    "train_data16 = pd.DataFrame()\n",
    "train_data16['fname'] = subsetDataFrame16['file']\n",
    "train_data16 = train_data16['fname'].apply(get_mfcc, path='audio_samples/train/audio/off/').apply(transform_mfcc)\n",
    "print('done loading train mfcc')"
   ]
  },
  {
   "cell_type": "code",
   "execution_count": null,
   "metadata": {
    "collapsed": true
   },
   "outputs": [],
   "source": [
    "train_data16['word'] = subsetDataFrame16['label']"
   ]
  },
  {
   "cell_type": "code",
   "execution_count": null,
   "metadata": {
    "collapsed": true
   },
   "outputs": [],
   "source": [
    "# on"
   ]
  },
  {
   "cell_type": "code",
   "execution_count": null,
   "metadata": {
    "collapsed": true
   },
   "outputs": [],
   "source": [
    "subsetDataFrame17 = train[train['label'] == 'on']\n",
    "train_data17 = pd.DataFrame()\n",
    "train_data17['fname'] = subsetDataFrame17['file']\n",
    "train_data17 = train_data17['fname'].apply(get_mfcc, path='audio_samples/train/audio/on/').apply(transform_mfcc)\n",
    "print('done loading train mfcc')"
   ]
  },
  {
   "cell_type": "code",
   "execution_count": null,
   "metadata": {
    "collapsed": true
   },
   "outputs": [],
   "source": [
    "train_data17['word'] = subsetDataFrame17['label']"
   ]
  },
  {
   "cell_type": "code",
   "execution_count": null,
   "metadata": {
    "collapsed": true
   },
   "outputs": [],
   "source": [
    "# one "
   ]
  },
  {
   "cell_type": "code",
   "execution_count": null,
   "metadata": {
    "collapsed": true
   },
   "outputs": [],
   "source": [
    "subsetDataFrame18 = train[train['label'] == 'one']\n",
    "train_data18 = pd.DataFrame()\n",
    "train_data18['fname'] = subsetDataFrame18['file']\n",
    "train_data18 = train_data18['fname'].apply(get_mfcc, path='audio_samples/train/audio/one/').apply(transform_mfcc)\n",
    "print('done loading train mfcc')"
   ]
  },
  {
   "cell_type": "code",
   "execution_count": null,
   "metadata": {
    "collapsed": true
   },
   "outputs": [],
   "source": [
    "train_data18['word'] = subsetDataFrame18['label']"
   ]
  },
  {
   "cell_type": "code",
   "execution_count": null,
   "metadata": {
    "collapsed": true
   },
   "outputs": [],
   "source": [
    "# right "
   ]
  },
  {
   "cell_type": "code",
   "execution_count": null,
   "metadata": {
    "collapsed": true
   },
   "outputs": [],
   "source": [
    "subsetDataFrame19 = train[train['label'] == 'right']\n",
    "train_data19 = pd.DataFrame()\n",
    "train_data19['fname'] = subsetDataFrame19['file']\n",
    "train_data19 = train_data19['fname'].apply(get_mfcc, path='audio_samples/train/audio/right/').apply(transform_mfcc)\n",
    "print('done loading train mfcc')"
   ]
  },
  {
   "cell_type": "code",
   "execution_count": null,
   "metadata": {
    "collapsed": true
   },
   "outputs": [],
   "source": [
    "train_data19['word'] = subsetDataFrame19['label']"
   ]
  },
  {
   "cell_type": "code",
   "execution_count": null,
   "metadata": {
    "collapsed": true
   },
   "outputs": [],
   "source": [
    "# seven"
   ]
  },
  {
   "cell_type": "code",
   "execution_count": null,
   "metadata": {
    "collapsed": true
   },
   "outputs": [],
   "source": [
    "subsetDataFrame20 = train[train['label'] == 'seven']\n",
    "train_data20 = pd.DataFrame()\n",
    "train_data20['fname'] = subsetDataFrame20['file']\n",
    "train_data20 = train_data20['fname'].apply(get_mfcc, path='audio_samples/train/audio/seven/').apply(transform_mfcc)\n",
    "print('done loading train mfcc')"
   ]
  },
  {
   "cell_type": "code",
   "execution_count": null,
   "metadata": {
    "collapsed": true
   },
   "outputs": [],
   "source": [
    "train_data20['word'] = subsetDataFrame20['label']"
   ]
  },
  {
   "cell_type": "code",
   "execution_count": null,
   "metadata": {
    "collapsed": true
   },
   "outputs": [],
   "source": [
    "# sheila"
   ]
  },
  {
   "cell_type": "code",
   "execution_count": null,
   "metadata": {
    "collapsed": true
   },
   "outputs": [],
   "source": [
    "subsetDataFrame21 = train[train['label'] == 'sheila']\n",
    "train_data21 = pd.DataFrame()\n",
    "train_data21['fname'] = subsetDataFrame21['file']\n",
    "train_data21 = train_data21['fname'].apply(get_mfcc, path='audio_samples/train/audio/sheila/').apply(transform_mfcc)\n",
    "print('done loading train mfcc')"
   ]
  },
  {
   "cell_type": "code",
   "execution_count": null,
   "metadata": {
    "collapsed": true
   },
   "outputs": [],
   "source": [
    "train_data21['word'] = subsetDataFrame21['label']"
   ]
  },
  {
   "cell_type": "code",
   "execution_count": null,
   "metadata": {
    "collapsed": true
   },
   "outputs": [],
   "source": [
    "# six "
   ]
  },
  {
   "cell_type": "code",
   "execution_count": null,
   "metadata": {
    "collapsed": true
   },
   "outputs": [],
   "source": [
    "subsetDataFrame22 = train[train['label'] == 'six']\n",
    "train_data22 = pd.DataFrame()\n",
    "train_data22['fname'] = subsetDataFrame22['file']\n",
    "train_data22 = train_data22['fname'].apply(get_mfcc, path='audio_samples/train/audio/six/').apply(transform_mfcc)\n",
    "print('done loading train mfcc')"
   ]
  },
  {
   "cell_type": "code",
   "execution_count": null,
   "metadata": {
    "collapsed": true
   },
   "outputs": [],
   "source": [
    "train_data22['word'] = subsetDataFrame22['label']"
   ]
  },
  {
   "cell_type": "code",
   "execution_count": null,
   "metadata": {
    "collapsed": true
   },
   "outputs": [],
   "source": [
    "# stop"
   ]
  },
  {
   "cell_type": "code",
   "execution_count": null,
   "metadata": {
    "collapsed": true
   },
   "outputs": [],
   "source": [
    "subsetDataFrame23 = train[train['label'] == 'stop']\n",
    "train_data23 = pd.DataFrame()\n",
    "train_data23['fname'] = subsetDataFrame23['file']\n",
    "train_data23 = train_data23['fname'].apply(get_mfcc, path='audio_samples/train/audio/stop/').apply(transform_mfcc)\n",
    "print('done loading train mfcc')"
   ]
  },
  {
   "cell_type": "code",
   "execution_count": null,
   "metadata": {
    "collapsed": true
   },
   "outputs": [],
   "source": [
    "train_data23['word'] = subsetDataFrame23['label']"
   ]
  },
  {
   "cell_type": "code",
   "execution_count": null,
   "metadata": {
    "collapsed": true
   },
   "outputs": [],
   "source": [
    "# three"
   ]
  },
  {
   "cell_type": "code",
   "execution_count": null,
   "metadata": {
    "collapsed": true
   },
   "outputs": [],
   "source": [
    "subsetDataFrame24 = train[train['label'] == 'three']\n",
    "train_data24 = pd.DataFrame()\n",
    "train_data24['fname'] = subsetDataFrame24['file']\n",
    "train_data24 = train_data24['fname'].apply(get_mfcc, path='audio_samples/train/audio/three/').apply(transform_mfcc)\n",
    "print('done loading train mfcc')"
   ]
  },
  {
   "cell_type": "code",
   "execution_count": null,
   "metadata": {
    "collapsed": true
   },
   "outputs": [],
   "source": [
    "train_data24['word'] = subsetDataFrame24['label']"
   ]
  },
  {
   "cell_type": "code",
   "execution_count": null,
   "metadata": {
    "collapsed": true
   },
   "outputs": [],
   "source": [
    "# tree"
   ]
  },
  {
   "cell_type": "code",
   "execution_count": null,
   "metadata": {
    "collapsed": true
   },
   "outputs": [],
   "source": [
    "subsetDataFrame25 = train[train['label'] == 'tree']\n",
    "train_data25 = pd.DataFrame()\n",
    "train_data25['fname'] = subsetDataFrame25['file']\n",
    "train_data25 = train_data25['fname'].apply(get_mfcc, path='audio_samples/train/audio/tree/').apply(transform_mfcc)\n",
    "print('done loading train mfcc')"
   ]
  },
  {
   "cell_type": "code",
   "execution_count": null,
   "metadata": {
    "collapsed": true
   },
   "outputs": [],
   "source": [
    "train_data25['word'] = subsetDataFrame25['label']"
   ]
  },
  {
   "cell_type": "code",
   "execution_count": null,
   "metadata": {
    "collapsed": true
   },
   "outputs": [],
   "source": [
    "# two "
   ]
  },
  {
   "cell_type": "code",
   "execution_count": null,
   "metadata": {
    "collapsed": true
   },
   "outputs": [],
   "source": [
    "subsetDataFrame26 = train[train['label'] == 'two']\n",
    "train_data26 = pd.DataFrame()\n",
    "train_data26['fname'] = subsetDataFrame26['file']\n",
    "train_data26 = train_data26['fname'].apply(get_mfcc, path='audio_samples/train/audio/two/').apply(transform_mfcc)\n",
    "print('done loading train mfcc')"
   ]
  },
  {
   "cell_type": "code",
   "execution_count": null,
   "metadata": {
    "collapsed": true
   },
   "outputs": [],
   "source": [
    "train_data26['word'] = subsetDataFrame26['label']"
   ]
  },
  {
   "cell_type": "code",
   "execution_count": null,
   "metadata": {
    "collapsed": true
   },
   "outputs": [],
   "source": [
    "# up "
   ]
  },
  {
   "cell_type": "code",
   "execution_count": null,
   "metadata": {
    "collapsed": true
   },
   "outputs": [],
   "source": [
    "subsetDataFrame27 = train[train['label'] == 'up']\n",
    "train_data27 = pd.DataFrame()\n",
    "train_data27['fname'] = subsetDataFrame27['file']\n",
    "train_data27 = train_data27['fname'].apply(get_mfcc, path='audio_samples/train/audio/up/').apply(transform_mfcc)\n",
    "print('done loading train mfcc')"
   ]
  },
  {
   "cell_type": "code",
   "execution_count": null,
   "metadata": {
    "collapsed": true
   },
   "outputs": [],
   "source": [
    "train_data27['word'] = subsetDataFrame27['label']"
   ]
  },
  {
   "cell_type": "code",
   "execution_count": null,
   "metadata": {
    "collapsed": true
   },
   "outputs": [],
   "source": [
    "# wow "
   ]
  },
  {
   "cell_type": "code",
   "execution_count": null,
   "metadata": {
    "collapsed": true
   },
   "outputs": [],
   "source": [
    "subsetDataFrame28 = train[train['label'] == 'wow']\n",
    "train_data28 = pd.DataFrame()\n",
    "train_data28['fname'] = subsetDataFrame28['file']\n",
    "train_data28 = train_data28['fname'].apply(get_mfcc, path='audio_samples/train/audio/wow/').apply(transform_mfcc)\n",
    "print('done loading train mfcc')"
   ]
  },
  {
   "cell_type": "code",
   "execution_count": null,
   "metadata": {
    "collapsed": true
   },
   "outputs": [],
   "source": [
    "train_data28['word'] = subsetDataFrame28['label']"
   ]
  },
  {
   "cell_type": "code",
   "execution_count": null,
   "metadata": {
    "collapsed": true
   },
   "outputs": [],
   "source": [
    "# yes"
   ]
  },
  {
   "cell_type": "code",
   "execution_count": null,
   "metadata": {
    "collapsed": true
   },
   "outputs": [],
   "source": [
    "subsetDataFrame29 = train[train['label'] == 'yes']\n",
    "train_data29 = pd.DataFrame()\n",
    "train_data29['fname'] = subsetDataFrame29['file']\n",
    "train_data29 = train_data29['fname'].apply(get_mfcc, path='audio_samples/train/audio/yes/').apply(transform_mfcc)\n",
    "print('done loading train mfcc')"
   ]
  },
  {
   "cell_type": "code",
   "execution_count": null,
   "metadata": {
    "collapsed": true
   },
   "outputs": [],
   "source": [
    "train_data29['word'] = subsetDataFrame29['label']"
   ]
  },
  {
   "cell_type": "code",
   "execution_count": null,
   "metadata": {
    "collapsed": true
   },
   "outputs": [],
   "source": [
    "# zero "
   ]
  },
  {
   "cell_type": "code",
   "execution_count": null,
   "metadata": {
    "collapsed": true
   },
   "outputs": [],
   "source": [
    "subsetDataFrame30 = train[train['label'] == 'zero']\n",
    "train_data30 = pd.DataFrame()\n",
    "train_data30['fname'] = subsetDataFrame30['file']\n",
    "train_data30 = train_data30['fname'].apply(get_mfcc, path='audio_samples/train/audio/zero/').apply(transform_mfcc)\n",
    "print('done loading train mfcc')"
   ]
  },
  {
   "cell_type": "code",
   "execution_count": null,
   "metadata": {
    "collapsed": true
   },
   "outputs": [],
   "source": [
    "train_data30['word'] = subsetDataFrame30['label']"
   ]
  },
  {
   "cell_type": "code",
   "execution_count": null,
   "metadata": {
    "collapsed": true
   },
   "outputs": [],
   "source": [
    "final_df=pd.concat([train_data,train_data2,train_data3,train_data4,train_data5,train_data6,train_data7,train_data8,train_data9,train_data10,train_data11,train_data12,train_data13,train_data14,train_data15,train_data16,train_data17,train_data18,train_data19,train_data20,train_data21,train_data22,train_data23,train_data24,train_data25,train_data26,train_data27,train_data28,train_data29,train_data30])"
   ]
  },
  {
   "cell_type": "code",
   "execution_count": null,
   "metadata": {
    "collapsed": true
   },
   "outputs": [],
   "source": [
    "final_df.to_csv('trainmfcc.csv', index = False)"
   ]
  },
  {
   "cell_type": "code",
   "execution_count": null,
   "metadata": {
    "collapsed": true
   },
   "outputs": [],
   "source": [
    "final_df.tail()"
   ]
  },
  {
   "cell_type": "code",
   "execution_count": 13,
   "metadata": {
    "collapsed": true
   },
   "outputs": [],
   "source": [
    "subsetDataFrame31 = train[train['label'] == '_background_noise_']"
   ]
  },
  {
   "cell_type": "code",
   "execution_count": 14,
   "metadata": {},
   "outputs": [
    {
     "data": {
      "text/html": [
       "<div>\n",
       "<style>\n",
       "    .dataframe thead tr:only-child th {\n",
       "        text-align: right;\n",
       "    }\n",
       "\n",
       "    .dataframe thead th {\n",
       "        text-align: left;\n",
       "    }\n",
       "\n",
       "    .dataframe tbody tr th {\n",
       "        vertical-align: top;\n",
       "    }\n",
       "</style>\n",
       "<table border=\"1\" class=\"dataframe\">\n",
       "  <thead>\n",
       "    <tr style=\"text-align: right;\">\n",
       "      <th></th>\n",
       "      <th>file</th>\n",
       "      <th>label</th>\n",
       "    </tr>\n",
       "  </thead>\n",
       "  <tbody>\n",
       "  </tbody>\n",
       "</table>\n",
       "</div>"
      ],
      "text/plain": [
       "Empty DataFrame\n",
       "Columns: [file, label]\n",
       "Index: []"
      ]
     },
     "execution_count": 14,
     "metadata": {},
     "output_type": "execute_result"
    }
   ],
   "source": [
    "subsetDataFrame31"
   ]
  },
  {
   "cell_type": "code",
   "execution_count": 15,
   "metadata": {},
   "outputs": [
    {
     "ename": "FileNotFoundError",
     "evalue": "[Errno 2] No such file or directory: 'C:\\\\Users\\\\hafsa\\\\Desktop\\\\PFA Files\\\\dtw-master\\\\audio_samples\\\\train\\\\audio\\\\_background_noise_\\\\004ae714_nohash_0.wav'",
     "output_type": "error",
     "traceback": [
      "\u001b[1;31m---------------------------------------------------------------------------\u001b[0m",
      "\u001b[1;31mFileNotFoundError\u001b[0m                         Traceback (most recent call last)",
      "\u001b[1;32m<ipython-input-15-fe45cd93dc9c>\u001b[0m in \u001b[0;36m<module>\u001b[1;34m()\u001b[0m\n\u001b[0;32m      2\u001b[0m \u001b[0mtrain_data31\u001b[0m \u001b[1;33m=\u001b[0m \u001b[0mpd\u001b[0m\u001b[1;33m.\u001b[0m\u001b[0mDataFrame\u001b[0m\u001b[1;33m(\u001b[0m\u001b[1;33m)\u001b[0m\u001b[1;33m\u001b[0m\u001b[0m\n\u001b[0;32m      3\u001b[0m \u001b[0mtrain_data31\u001b[0m\u001b[1;33m[\u001b[0m\u001b[1;34m'fname'\u001b[0m\u001b[1;33m]\u001b[0m \u001b[1;33m=\u001b[0m \u001b[0msubsetDataFrame31\u001b[0m\u001b[1;33m[\u001b[0m\u001b[1;34m'file'\u001b[0m\u001b[1;33m]\u001b[0m\u001b[1;33m\u001b[0m\u001b[0m\n\u001b[1;32m----> 4\u001b[1;33m \u001b[0mtrain_data31\u001b[0m \u001b[1;33m=\u001b[0m \u001b[0mtrain_data31\u001b[0m\u001b[1;33m[\u001b[0m\u001b[1;34m'fname'\u001b[0m\u001b[1;33m]\u001b[0m\u001b[1;33m.\u001b[0m\u001b[0mapply\u001b[0m\u001b[1;33m(\u001b[0m\u001b[0mget_mfcc\u001b[0m\u001b[1;33m,\u001b[0m \u001b[0mpath\u001b[0m\u001b[1;33m=\u001b[0m\u001b[1;34m'audio_samples/train/audio/_background_noise_/'\u001b[0m\u001b[1;33m)\u001b[0m\u001b[1;33m.\u001b[0m\u001b[0mapply\u001b[0m\u001b[1;33m(\u001b[0m\u001b[0mtransform_mfcc\u001b[0m\u001b[1;33m)\u001b[0m\u001b[1;33m\u001b[0m\u001b[0m\n\u001b[0m\u001b[0;32m      5\u001b[0m \u001b[0mprint\u001b[0m\u001b[1;33m(\u001b[0m\u001b[1;34m'done loading train mfcc'\u001b[0m\u001b[1;33m)\u001b[0m\u001b[1;33m\u001b[0m\u001b[0m\n",
      "\u001b[1;32m~\\Anaconda3\\lib\\site-packages\\pandas\\core\\series.py\u001b[0m in \u001b[0;36mapply\u001b[1;34m(self, func, convert_dtype, args, **kwds)\u001b[0m\n\u001b[0;32m   2353\u001b[0m             \u001b[1;32melse\u001b[0m\u001b[1;33m:\u001b[0m\u001b[1;33m\u001b[0m\u001b[0m\n\u001b[0;32m   2354\u001b[0m                 \u001b[0mvalues\u001b[0m \u001b[1;33m=\u001b[0m \u001b[0mself\u001b[0m\u001b[1;33m.\u001b[0m\u001b[0masobject\u001b[0m\u001b[1;33m\u001b[0m\u001b[0m\n\u001b[1;32m-> 2355\u001b[1;33m                 \u001b[0mmapped\u001b[0m \u001b[1;33m=\u001b[0m \u001b[0mlib\u001b[0m\u001b[1;33m.\u001b[0m\u001b[0mmap_infer\u001b[0m\u001b[1;33m(\u001b[0m\u001b[0mvalues\u001b[0m\u001b[1;33m,\u001b[0m \u001b[0mf\u001b[0m\u001b[1;33m,\u001b[0m \u001b[0mconvert\u001b[0m\u001b[1;33m=\u001b[0m\u001b[0mconvert_dtype\u001b[0m\u001b[1;33m)\u001b[0m\u001b[1;33m\u001b[0m\u001b[0m\n\u001b[0m\u001b[0;32m   2356\u001b[0m \u001b[1;33m\u001b[0m\u001b[0m\n\u001b[0;32m   2357\u001b[0m         \u001b[1;32mif\u001b[0m \u001b[0mlen\u001b[0m\u001b[1;33m(\u001b[0m\u001b[0mmapped\u001b[0m\u001b[1;33m)\u001b[0m \u001b[1;32mand\u001b[0m \u001b[0misinstance\u001b[0m\u001b[1;33m(\u001b[0m\u001b[0mmapped\u001b[0m\u001b[1;33m[\u001b[0m\u001b[1;36m0\u001b[0m\u001b[1;33m]\u001b[0m\u001b[1;33m,\u001b[0m \u001b[0mSeries\u001b[0m\u001b[1;33m)\u001b[0m\u001b[1;33m:\u001b[0m\u001b[1;33m\u001b[0m\u001b[0m\n",
      "\u001b[1;32mpandas/_libs/src\\inference.pyx\u001b[0m in \u001b[0;36mpandas._libs.lib.map_infer\u001b[1;34m()\u001b[0m\n",
      "\u001b[1;32m~\\Anaconda3\\lib\\site-packages\\pandas\\core\\series.py\u001b[0m in \u001b[0;36m<lambda>\u001b[1;34m(x)\u001b[0m\n\u001b[0;32m   2340\u001b[0m         \u001b[1;31m# handle ufuncs and lambdas\u001b[0m\u001b[1;33m\u001b[0m\u001b[1;33m\u001b[0m\u001b[0m\n\u001b[0;32m   2341\u001b[0m         \u001b[1;32mif\u001b[0m \u001b[0mkwds\u001b[0m \u001b[1;32mor\u001b[0m \u001b[0margs\u001b[0m \u001b[1;32mand\u001b[0m \u001b[1;32mnot\u001b[0m \u001b[0misinstance\u001b[0m\u001b[1;33m(\u001b[0m\u001b[0mfunc\u001b[0m\u001b[1;33m,\u001b[0m \u001b[0mnp\u001b[0m\u001b[1;33m.\u001b[0m\u001b[0mufunc\u001b[0m\u001b[1;33m)\u001b[0m\u001b[1;33m:\u001b[0m\u001b[1;33m\u001b[0m\u001b[0m\n\u001b[1;32m-> 2342\u001b[1;33m             \u001b[0mf\u001b[0m \u001b[1;33m=\u001b[0m \u001b[1;32mlambda\u001b[0m \u001b[0mx\u001b[0m\u001b[1;33m:\u001b[0m \u001b[0mfunc\u001b[0m\u001b[1;33m(\u001b[0m\u001b[0mx\u001b[0m\u001b[1;33m,\u001b[0m \u001b[1;33m*\u001b[0m\u001b[0margs\u001b[0m\u001b[1;33m,\u001b[0m \u001b[1;33m**\u001b[0m\u001b[0mkwds\u001b[0m\u001b[1;33m)\u001b[0m\u001b[1;33m\u001b[0m\u001b[0m\n\u001b[0m\u001b[0;32m   2343\u001b[0m         \u001b[1;32melse\u001b[0m\u001b[1;33m:\u001b[0m\u001b[1;33m\u001b[0m\u001b[0m\n\u001b[0;32m   2344\u001b[0m             \u001b[0mf\u001b[0m \u001b[1;33m=\u001b[0m \u001b[0mfunc\u001b[0m\u001b[1;33m\u001b[0m\u001b[0m\n",
      "\u001b[1;32m<ipython-input-5-7ea8eecc1486>\u001b[0m in \u001b[0;36mget_mfcc\u001b[1;34m(name, path)\u001b[0m\n\u001b[0;32m      1\u001b[0m \u001b[1;32mdef\u001b[0m \u001b[0mget_mfcc\u001b[0m\u001b[1;33m(\u001b[0m\u001b[0mname\u001b[0m\u001b[1;33m,\u001b[0m \u001b[0mpath\u001b[0m\u001b[1;33m)\u001b[0m\u001b[1;33m:\u001b[0m\u001b[1;33m\u001b[0m\u001b[0m\n\u001b[1;32m----> 2\u001b[1;33m     \u001b[0my\u001b[0m\u001b[1;33m,\u001b[0m \u001b[0msr\u001b[0m \u001b[1;33m=\u001b[0m \u001b[0mlibrosa\u001b[0m\u001b[1;33m.\u001b[0m\u001b[0mload\u001b[0m\u001b[1;33m(\u001b[0m\u001b[0mpath\u001b[0m \u001b[1;33m+\u001b[0m \u001b[0mname\u001b[0m\u001b[1;33m,\u001b[0m \u001b[0msr\u001b[0m \u001b[1;33m=\u001b[0m \u001b[1;36m22050\u001b[0m\u001b[1;33m)\u001b[0m\u001b[1;33m\u001b[0m\u001b[0m\n\u001b[0m\u001b[0;32m      3\u001b[0m \u001b[1;33m\u001b[0m\u001b[0m\n\u001b[0;32m      4\u001b[0m     \u001b[1;31m# Let's make and display a mel-scaled power (energy-squared) spectrogram\u001b[0m\u001b[1;33m\u001b[0m\u001b[1;33m\u001b[0m\u001b[0m\n\u001b[0;32m      5\u001b[0m     \u001b[0mS\u001b[0m \u001b[1;33m=\u001b[0m \u001b[0mlibrosa\u001b[0m\u001b[1;33m.\u001b[0m\u001b[0mfeature\u001b[0m\u001b[1;33m.\u001b[0m\u001b[0mmelspectrogram\u001b[0m\u001b[1;33m(\u001b[0m\u001b[0my\u001b[0m\u001b[1;33m,\u001b[0m \u001b[0msr\u001b[0m\u001b[1;33m=\u001b[0m\u001b[0msr\u001b[0m\u001b[1;33m,\u001b[0m \u001b[0mn_mels\u001b[0m\u001b[1;33m=\u001b[0m\u001b[1;36m128\u001b[0m\u001b[1;33m)\u001b[0m\u001b[1;33m\u001b[0m\u001b[0m\n",
      "\u001b[1;32m~\\Anaconda3\\lib\\site-packages\\librosa\\core\\audio.py\u001b[0m in \u001b[0;36mload\u001b[1;34m(path, sr, mono, offset, duration, dtype, res_type)\u001b[0m\n\u001b[0;32m    110\u001b[0m \u001b[1;33m\u001b[0m\u001b[0m\n\u001b[0;32m    111\u001b[0m     \u001b[0my\u001b[0m \u001b[1;33m=\u001b[0m \u001b[1;33m[\u001b[0m\u001b[1;33m]\u001b[0m\u001b[1;33m\u001b[0m\u001b[0m\n\u001b[1;32m--> 112\u001b[1;33m     \u001b[1;32mwith\u001b[0m \u001b[0maudioread\u001b[0m\u001b[1;33m.\u001b[0m\u001b[0maudio_open\u001b[0m\u001b[1;33m(\u001b[0m\u001b[0mos\u001b[0m\u001b[1;33m.\u001b[0m\u001b[0mpath\u001b[0m\u001b[1;33m.\u001b[0m\u001b[0mrealpath\u001b[0m\u001b[1;33m(\u001b[0m\u001b[0mpath\u001b[0m\u001b[1;33m)\u001b[0m\u001b[1;33m)\u001b[0m \u001b[1;32mas\u001b[0m \u001b[0minput_file\u001b[0m\u001b[1;33m:\u001b[0m\u001b[1;33m\u001b[0m\u001b[0m\n\u001b[0m\u001b[0;32m    113\u001b[0m         \u001b[0msr_native\u001b[0m \u001b[1;33m=\u001b[0m \u001b[0minput_file\u001b[0m\u001b[1;33m.\u001b[0m\u001b[0msamplerate\u001b[0m\u001b[1;33m\u001b[0m\u001b[0m\n\u001b[0;32m    114\u001b[0m         \u001b[0mn_channels\u001b[0m \u001b[1;33m=\u001b[0m \u001b[0minput_file\u001b[0m\u001b[1;33m.\u001b[0m\u001b[0mchannels\u001b[0m\u001b[1;33m\u001b[0m\u001b[0m\n",
      "\u001b[1;32m~\\Anaconda3\\lib\\site-packages\\audioread\\__init__.py\u001b[0m in \u001b[0;36maudio_open\u001b[1;34m(path)\u001b[0m\n\u001b[0;32m     78\u001b[0m     \u001b[1;32mfrom\u001b[0m \u001b[1;33m.\u001b[0m \u001b[1;32mimport\u001b[0m \u001b[0mrawread\u001b[0m\u001b[1;33m\u001b[0m\u001b[0m\n\u001b[0;32m     79\u001b[0m     \u001b[1;32mtry\u001b[0m\u001b[1;33m:\u001b[0m\u001b[1;33m\u001b[0m\u001b[0m\n\u001b[1;32m---> 80\u001b[1;33m         \u001b[1;32mreturn\u001b[0m \u001b[0mrawread\u001b[0m\u001b[1;33m.\u001b[0m\u001b[0mRawAudioFile\u001b[0m\u001b[1;33m(\u001b[0m\u001b[0mpath\u001b[0m\u001b[1;33m)\u001b[0m\u001b[1;33m\u001b[0m\u001b[0m\n\u001b[0m\u001b[0;32m     81\u001b[0m     \u001b[1;32mexcept\u001b[0m \u001b[0mDecodeError\u001b[0m\u001b[1;33m:\u001b[0m\u001b[1;33m\u001b[0m\u001b[0m\n\u001b[0;32m     82\u001b[0m         \u001b[1;32mpass\u001b[0m\u001b[1;33m\u001b[0m\u001b[0m\n",
      "\u001b[1;32m~\\Anaconda3\\lib\\site-packages\\audioread\\rawread.py\u001b[0m in \u001b[0;36m__init__\u001b[1;34m(self, filename)\u001b[0m\n\u001b[0;32m     59\u001b[0m     \"\"\"\n\u001b[0;32m     60\u001b[0m     \u001b[1;32mdef\u001b[0m \u001b[0m__init__\u001b[0m\u001b[1;33m(\u001b[0m\u001b[0mself\u001b[0m\u001b[1;33m,\u001b[0m \u001b[0mfilename\u001b[0m\u001b[1;33m)\u001b[0m\u001b[1;33m:\u001b[0m\u001b[1;33m\u001b[0m\u001b[0m\n\u001b[1;32m---> 61\u001b[1;33m         \u001b[0mself\u001b[0m\u001b[1;33m.\u001b[0m\u001b[0m_fh\u001b[0m \u001b[1;33m=\u001b[0m \u001b[0mopen\u001b[0m\u001b[1;33m(\u001b[0m\u001b[0mfilename\u001b[0m\u001b[1;33m,\u001b[0m \u001b[1;34m'rb'\u001b[0m\u001b[1;33m)\u001b[0m\u001b[1;33m\u001b[0m\u001b[0m\n\u001b[0m\u001b[0;32m     62\u001b[0m \u001b[1;33m\u001b[0m\u001b[0m\n\u001b[0;32m     63\u001b[0m         \u001b[1;32mtry\u001b[0m\u001b[1;33m:\u001b[0m\u001b[1;33m\u001b[0m\u001b[0m\n",
      "\u001b[1;31mFileNotFoundError\u001b[0m: [Errno 2] No such file or directory: 'C:\\\\Users\\\\hafsa\\\\Desktop\\\\PFA Files\\\\dtw-master\\\\audio_samples\\\\train\\\\audio\\\\_background_noise_\\\\004ae714_nohash_0.wav'"
     ]
    }
   ],
   "source": [
    "subsetDataFrame31 = train[train['label'] == 'zero']\n",
    "train_data31 = pd.DataFrame()\n",
    "train_data31['fname'] = subsetDataFrame31['file']\n",
    "train_data31 = train_data31['fname'].apply(get_mfcc, path='audio_samples/train/audio/_background_noise_/').apply(transform_mfcc)\n",
    "print('done loading train mfcc')"
   ]
  },
  {
   "cell_type": "code",
   "execution_count": null,
   "metadata": {
    "collapsed": true
   },
   "outputs": [],
   "source": []
  }
 ],
 "metadata": {
  "kernelspec": {
   "display_name": "Python 3",
   "language": "python",
   "name": "python3"
  },
  "language_info": {
   "codemirror_mode": {
    "name": "ipython",
    "version": 3
   },
   "file_extension": ".py",
   "mimetype": "text/x-python",
   "name": "python",
   "nbconvert_exporter": "python",
   "pygments_lexer": "ipython3",
   "version": "3.6.3"
  }
 },
 "nbformat": 4,
 "nbformat_minor": 2
}
